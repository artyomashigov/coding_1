{
 "cells": [
  {
   "cell_type": "markdown",
   "id": "b859f8e8",
   "metadata": {},
   "source": [
    "# Functions\n",
    "\n"
   ]
  },
  {
   "cell_type": "code",
   "execution_count": 1,
   "id": "92e82ea8",
   "metadata": {},
   "outputs": [],
   "source": [
    "# let's define our first function\n",
    "\n",
    "def add_one(number):\n",
    "    \n",
    "    #add one to the number\n",
    "    number_plus_one = number + 1\n",
    "    \n",
    "    #return result\n",
    "    return number_plus_one    "
   ]
  },
  {
   "cell_type": "code",
   "execution_count": 2,
   "id": "c92e3f5a",
   "metadata": {},
   "outputs": [
    {
     "data": {
      "text/plain": [
       "6"
      ]
     },
     "execution_count": 2,
     "metadata": {},
     "output_type": "execute_result"
    }
   ],
   "source": [
    "add_one(5)"
   ]
  },
  {
   "cell_type": "code",
   "execution_count": 10,
   "id": "9ded9554",
   "metadata": {},
   "outputs": [],
   "source": [
    "def add_one_str(number):\n",
    "    \n",
    "    # add one to the number\n",
    "    number_plus_one = number + 1\n",
    "    \n",
    "    #print results. it will always print and won't assign to variables\n",
    "    print(number_plus_one)"
   ]
  },
  {
   "cell_type": "code",
   "execution_count": 8,
   "id": "109f83fb",
   "metadata": {},
   "outputs": [
    {
     "name": "stdout",
     "output_type": "stream",
     "text": [
      "6\n"
     ]
    }
   ],
   "source": [
    "add_one_str(5)"
   ]
  },
  {
   "cell_type": "code",
   "execution_count": 14,
   "id": "b45eba22",
   "metadata": {},
   "outputs": [],
   "source": [
    "x = add_one(5)"
   ]
  },
  {
   "cell_type": "code",
   "execution_count": 15,
   "id": "b80df593",
   "metadata": {},
   "outputs": [
    {
     "name": "stdout",
     "output_type": "stream",
     "text": [
      "6\n"
     ]
    }
   ],
   "source": [
    "y = add_one_str(5)"
   ]
  },
  {
   "cell_type": "code",
   "execution_count": 16,
   "id": "0009c04b",
   "metadata": {},
   "outputs": [
    {
     "name": "stdout",
     "output_type": "stream",
     "text": [
      "6 None\n"
     ]
    }
   ],
   "source": [
    "print(x, y)"
   ]
  },
  {
   "cell_type": "code",
   "execution_count": 17,
   "id": "cf83d951",
   "metadata": {},
   "outputs": [],
   "source": [
    "#Functions return more than 1 output\n",
    "def add_one_return_both(num1):\n",
    "    # add one to num1\n",
    "    num2 = num1 + 1\n",
    "    return num1, num2\n",
    "    "
   ]
  },
  {
   "cell_type": "code",
   "execution_count": 18,
   "id": "7ff5dc35",
   "metadata": {},
   "outputs": [
    {
     "data": {
      "text/plain": [
       "(6, 7)"
      ]
     },
     "execution_count": 18,
     "metadata": {},
     "output_type": "execute_result"
    }
   ],
   "source": [
    "add_one_return_both(6)"
   ]
  },
  {
   "cell_type": "code",
   "execution_count": 19,
   "id": "97388fed",
   "metadata": {},
   "outputs": [],
   "source": [
    "a, b  = add_one_return_both(5)"
   ]
  },
  {
   "cell_type": "code",
   "execution_count": 20,
   "id": "36f4d49a",
   "metadata": {},
   "outputs": [
    {
     "name": "stdout",
     "output_type": "stream",
     "text": [
      "5 6\n"
     ]
    }
   ],
   "source": [
    "print(a,b)"
   ]
  },
  {
   "cell_type": "code",
   "execution_count": 21,
   "id": "b53418bd",
   "metadata": {},
   "outputs": [],
   "source": [
    "# fucntions with default values\n",
    "\n",
    "def num_pow(num,exponent = 3):\n",
    "    return num**exponent\n",
    "    "
   ]
  },
  {
   "cell_type": "code",
   "execution_count": 22,
   "id": "64f6cf33",
   "metadata": {},
   "outputs": [
    {
     "data": {
      "text/plain": [
       "8"
      ]
     },
     "execution_count": 22,
     "metadata": {},
     "output_type": "execute_result"
    }
   ],
   "source": [
    "num_pow(2)"
   ]
  },
  {
   "cell_type": "code",
   "execution_count": 23,
   "id": "79d6a769",
   "metadata": {},
   "outputs": [
    {
     "data": {
      "text/plain": [
       "25"
      ]
     },
     "execution_count": 23,
     "metadata": {},
     "output_type": "execute_result"
    }
   ],
   "source": [
    "num_pow(5,2)"
   ]
  },
  {
   "cell_type": "code",
   "execution_count": 26,
   "id": "b2c08bce",
   "metadata": {},
   "outputs": [],
   "source": [
    "# postional arguments vs keyword arguments:\n",
    "def subtract(num1,num2):\n",
    "    return num1 - num2"
   ]
  },
  {
   "cell_type": "code",
   "execution_count": 27,
   "id": "5a1b55bb",
   "metadata": {},
   "outputs": [
    {
     "data": {
      "text/plain": [
       "3"
      ]
     },
     "execution_count": 27,
     "metadata": {},
     "output_type": "execute_result"
    }
   ],
   "source": [
    "# use positional arguments\n",
    "subtract(5,2)"
   ]
  },
  {
   "cell_type": "code",
   "execution_count": 28,
   "id": "9448c695",
   "metadata": {},
   "outputs": [
    {
     "data": {
      "text/plain": [
       "-3"
      ]
     },
     "execution_count": 28,
     "metadata": {},
     "output_type": "execute_result"
    }
   ],
   "source": [
    "subtract(2,5)"
   ]
  },
  {
   "cell_type": "code",
   "execution_count": 30,
   "id": "173ab6aa",
   "metadata": {},
   "outputs": [
    {
     "data": {
      "text/plain": [
       "3"
      ]
     },
     "execution_count": 30,
     "metadata": {},
     "output_type": "execute_result"
    }
   ],
   "source": [
    "substract(num2 = 2, num1 = 5)"
   ]
  },
  {
   "cell_type": "code",
   "execution_count": 31,
   "id": "737c05e4",
   "metadata": {},
   "outputs": [
    {
     "data": {
      "text/plain": [
       "True"
      ]
     },
     "execution_count": 31,
     "metadata": {},
     "output_type": "execute_result"
    }
   ],
   "source": [
    "substract(num2 = 2, num1 = 5) == subtract(5,2)"
   ]
  },
  {
   "cell_type": "code",
   "execution_count": 35,
   "id": "8485361a",
   "metadata": {},
   "outputs": [],
   "source": [
    "# Function can take a variable number of arguments, keyword arguments\n",
    "def add_all_numbers(*numbers):\n",
    "    print(type(numbers))\n",
    "    \n",
    "    total = 0\n",
    "    \n",
    "    for number in numbers:\n",
    "        total += number\n",
    "    return total"
   ]
  },
  {
   "cell_type": "code",
   "execution_count": 37,
   "id": "1071b925",
   "metadata": {},
   "outputs": [
    {
     "name": "stdout",
     "output_type": "stream",
     "text": [
      "<class 'tuple'>\n"
     ]
    },
    {
     "data": {
      "text/plain": [
       "24"
      ]
     },
     "execution_count": 37,
     "metadata": {},
     "output_type": "execute_result"
    }
   ],
   "source": [
    "add_all_numbers(3,5,6,10)"
   ]
  },
  {
   "cell_type": "code",
   "execution_count": 41,
   "id": "12355477",
   "metadata": {},
   "outputs": [
    {
     "name": "stdout",
     "output_type": "stream",
     "text": [
      "<class 'tuple'>\n"
     ]
    },
    {
     "ename": "TypeError",
     "evalue": "unsupported operand type(s) for +=: 'int' and 'tuple'",
     "output_type": "error",
     "traceback": [
      "\u001b[1;31m---------------------------------------------------------------------------\u001b[0m",
      "\u001b[1;31mTypeError\u001b[0m                                 Traceback (most recent call last)",
      "Cell \u001b[1;32mIn[41], line 3\u001b[0m\n\u001b[0;32m      1\u001b[0m list_of_nums \u001b[38;5;241m=\u001b[39m ((\u001b[38;5;241m1\u001b[39m,\u001b[38;5;241m2\u001b[39m,\u001b[38;5;241m3\u001b[39m),(\u001b[38;5;241m4\u001b[39m,\u001b[38;5;241m5\u001b[39m,\u001b[38;5;241m6\u001b[39m,\u001b[38;5;241m7\u001b[39m,\u001b[38;5;241m8\u001b[39m,\u001b[38;5;241m9\u001b[39m),(\u001b[38;5;241m1\u001b[39m))\n\u001b[0;32m      2\u001b[0m \u001b[38;5;28;01mfor\u001b[39;00m i \u001b[38;5;129;01min\u001b[39;00m list_of_nums:\n\u001b[1;32m----> 3\u001b[0m     add_all_numbers(i)\n",
      "Cell \u001b[1;32mIn[35], line 8\u001b[0m, in \u001b[0;36madd_all_numbers\u001b[1;34m(*numbers)\u001b[0m\n\u001b[0;32m      5\u001b[0m total \u001b[38;5;241m=\u001b[39m \u001b[38;5;241m0\u001b[39m\n\u001b[0;32m      7\u001b[0m \u001b[38;5;28;01mfor\u001b[39;00m number \u001b[38;5;129;01min\u001b[39;00m numbers:\n\u001b[1;32m----> 8\u001b[0m     total \u001b[38;5;241m+\u001b[39m\u001b[38;5;241m=\u001b[39m number\n\u001b[0;32m      9\u001b[0m \u001b[38;5;28;01mreturn\u001b[39;00m total\n",
      "\u001b[1;31mTypeError\u001b[0m: unsupported operand type(s) for +=: 'int' and 'tuple'"
     ]
    }
   ],
   "source": [
    "list_of_nums = [(1,2,3),(4,5,6,7,8,9),(1)]\n",
    "for i in list_of_nums:\n",
    "    add_all_numbers(i)"
   ]
  },
  {
   "cell_type": "code",
   "execution_count": null,
   "id": "815d604f",
   "metadata": {},
   "outputs": [],
   "source": []
  }
 ],
 "metadata": {
  "kernelspec": {
   "display_name": "Python 3 (ipykernel)",
   "language": "python",
   "name": "python3"
  },
  "language_info": {
   "codemirror_mode": {
    "name": "ipython",
    "version": 3
   },
   "file_extension": ".py",
   "mimetype": "text/x-python",
   "name": "python",
   "nbconvert_exporter": "python",
   "pygments_lexer": "ipython3",
   "version": "3.11.4"
  }
 },
 "nbformat": 4,
 "nbformat_minor": 5
}
