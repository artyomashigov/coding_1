{
 "cells": [
  {
   "cell_type": "code",
   "execution_count": 1,
   "id": "2930a7c3",
   "metadata": {},
   "outputs": [],
   "source": [
    "import datetime\n",
    "import pandas as pd"
   ]
  },
  {
   "cell_type": "code",
   "execution_count": 2,
   "id": "9652ae01",
   "metadata": {},
   "outputs": [],
   "source": [
    "D = datetime.date(2022,9,1)\n",
    "T = datetime.time(12,0,0) #noon\n",
    "DT = datetime.datetime(2022,9,1,12,0,0)"
   ]
  },
  {
   "cell_type": "code",
   "execution_count": 3,
   "id": "24de2cf0",
   "metadata": {},
   "outputs": [
    {
     "name": "stdout",
     "output_type": "stream",
     "text": [
      "2022-09-01 \n",
      " 12:00:00 \n",
      " 2022-09-01 12:00:00\n"
     ]
    }
   ],
   "source": [
    "print(D,'\\n',T,'\\n',DT)"
   ]
  },
  {
   "cell_type": "code",
   "execution_count": 4,
   "id": "bdcd0673",
   "metadata": {},
   "outputs": [
    {
     "data": {
      "text/plain": [
       "datetime.time"
      ]
     },
     "execution_count": 4,
     "metadata": {},
     "output_type": "execute_result"
    }
   ],
   "source": [
    "# checking the type\n",
    "type(T)"
   ]
  },
  {
   "cell_type": "code",
   "execution_count": 5,
   "id": "c860fa23",
   "metadata": {},
   "outputs": [
    {
     "data": {
      "text/plain": [
       "Timestamp('2023-10-14 16:17:00.136127')"
      ]
     },
     "execution_count": 5,
     "metadata": {},
     "output_type": "execute_result"
    }
   ],
   "source": [
    "a = pd.Timestamp.now()\n",
    "a"
   ]
  },
  {
   "cell_type": "code",
   "execution_count": 6,
   "id": "320cde83",
   "metadata": {},
   "outputs": [
    {
     "data": {
      "text/plain": [
       "'10/14/2023/'"
      ]
     },
     "execution_count": 6,
     "metadata": {},
     "output_type": "execute_result"
    }
   ],
   "source": [
    "a.strftime('%m/%d/%Y/')"
   ]
  },
  {
   "cell_type": "code",
   "execution_count": 7,
   "id": "910239e0",
   "metadata": {},
   "outputs": [
    {
     "name": "stdout",
     "output_type": "stream",
     "text": [
      "2023-10-14 16:17:00.521650\n"
     ]
    }
   ],
   "source": [
    "# datetime now\n",
    "print(datetime.datetime.now())"
   ]
  },
  {
   "cell_type": "code",
   "execution_count": 8,
   "id": "201069f8",
   "metadata": {},
   "outputs": [
    {
     "name": "stdout",
     "output_type": "stream",
     "text": [
      "2023\n"
     ]
    }
   ],
   "source": [
    "# year now\n",
    "print(datetime.datetime.now().year)"
   ]
  },
  {
   "cell_type": "code",
   "execution_count": 9,
   "id": "8400ccf8",
   "metadata": {},
   "outputs": [
    {
     "name": "stdout",
     "output_type": "stream",
     "text": [
      "16\n"
     ]
    }
   ],
   "source": [
    "#\n",
    "print(datetime.datetime.now().hour)"
   ]
  },
  {
   "cell_type": "code",
   "execution_count": 10,
   "id": "9674857e",
   "metadata": {},
   "outputs": [],
   "source": [
    "# arithmetic opertaions\n",
    "current_datetime = datetime.datetime.now()"
   ]
  },
  {
   "cell_type": "code",
   "execution_count": 11,
   "id": "02bfb0d0",
   "metadata": {},
   "outputs": [],
   "source": [
    "datetime_old = datetime.datetime(1996,7,10)"
   ]
  },
  {
   "cell_type": "code",
   "execution_count": 12,
   "id": "e89fedec",
   "metadata": {},
   "outputs": [
    {
     "name": "stdout",
     "output_type": "stream",
     "text": [
      "9957 days, 16:17:00.548224\n"
     ]
    }
   ],
   "source": [
    "# calucate age\n",
    "print(current_datetime - datetime_old)"
   ]
  },
  {
   "cell_type": "code",
   "execution_count": 13,
   "id": "61a93619",
   "metadata": {},
   "outputs": [],
   "source": [
    "# delta\n",
    "dt = current_datetime - datetime_old"
   ]
  },
  {
   "cell_type": "code",
   "execution_count": 14,
   "id": "91891cf4",
   "metadata": {},
   "outputs": [
    {
     "name": "stdout",
     "output_type": "stream",
     "text": [
      "9957\n"
     ]
    }
   ],
   "source": [
    "print(dt.days)"
   ]
  },
  {
   "cell_type": "code",
   "execution_count": 15,
   "id": "cd408f9c",
   "metadata": {},
   "outputs": [],
   "source": [
    "# check out time library\n",
    "import time"
   ]
  },
  {
   "cell_type": "code",
   "execution_count": 16,
   "id": "7ecaa953",
   "metadata": {},
   "outputs": [
    {
     "name": "stdout",
     "output_type": "stream",
     "text": [
      "1697293020.582547\n"
     ]
    }
   ],
   "source": [
    "print(time.time()) # how many seconds have passed from 1970 January 1st"
   ]
  },
  {
   "cell_type": "code",
   "execution_count": 17,
   "id": "09e1ce62",
   "metadata": {},
   "outputs": [
    {
     "name": "stdout",
     "output_type": "stream",
     "text": [
      "1697293020.5968285\n",
      "1697293025.5981243\n",
      "1697293030.5990152\n",
      "1697293035.59966\n",
      "1697293040.600135\n"
     ]
    }
   ],
   "source": [
    "# lets check out sleep(). it sleeps for 5 seconds. it is useful for data scraping\n",
    "n = 0\n",
    "while n<5:\n",
    "    print(time.time())\n",
    "    time.sleep(5)\n",
    "    n += 1"
   ]
  },
  {
   "cell_type": "code",
   "execution_count": 18,
   "id": "cd4f640f",
   "metadata": {},
   "outputs": [],
   "source": [
    "#pandas datetime objects\n",
    "import pandas as pd"
   ]
  },
  {
   "cell_type": "code",
   "execution_count": 19,
   "id": "57b6d13f",
   "metadata": {},
   "outputs": [],
   "source": [
    "df = pd.DataFrame({'year': [2022,2022,2020],\n",
    "                  'months':[12,11,9],\n",
    "                  'day':[20,15,6],\n",
    "                  'hour':[23,20,9],\n",
    "                  'data':['a','b','c']})"
   ]
  },
  {
   "cell_type": "code",
   "execution_count": 20,
   "id": "f8eba6dd",
   "metadata": {},
   "outputs": [
    {
     "data": {
      "text/html": [
       "<div>\n",
       "<style scoped>\n",
       "    .dataframe tbody tr th:only-of-type {\n",
       "        vertical-align: middle;\n",
       "    }\n",
       "\n",
       "    .dataframe tbody tr th {\n",
       "        vertical-align: top;\n",
       "    }\n",
       "\n",
       "    .dataframe thead th {\n",
       "        text-align: right;\n",
       "    }\n",
       "</style>\n",
       "<table border=\"1\" class=\"dataframe\">\n",
       "  <thead>\n",
       "    <tr style=\"text-align: right;\">\n",
       "      <th></th>\n",
       "      <th>year</th>\n",
       "      <th>months</th>\n",
       "      <th>day</th>\n",
       "      <th>hour</th>\n",
       "      <th>data</th>\n",
       "    </tr>\n",
       "  </thead>\n",
       "  <tbody>\n",
       "    <tr>\n",
       "      <th>0</th>\n",
       "      <td>2022</td>\n",
       "      <td>12</td>\n",
       "      <td>20</td>\n",
       "      <td>23</td>\n",
       "      <td>a</td>\n",
       "    </tr>\n",
       "    <tr>\n",
       "      <th>1</th>\n",
       "      <td>2022</td>\n",
       "      <td>11</td>\n",
       "      <td>15</td>\n",
       "      <td>20</td>\n",
       "      <td>b</td>\n",
       "    </tr>\n",
       "    <tr>\n",
       "      <th>2</th>\n",
       "      <td>2020</td>\n",
       "      <td>9</td>\n",
       "      <td>6</td>\n",
       "      <td>9</td>\n",
       "      <td>c</td>\n",
       "    </tr>\n",
       "  </tbody>\n",
       "</table>\n",
       "</div>"
      ],
      "text/plain": [
       "   year  months  day  hour data\n",
       "0  2022      12   20    23    a\n",
       "1  2022      11   15    20    b\n",
       "2  2020       9    6     9    c"
      ]
     },
     "execution_count": 20,
     "metadata": {},
     "output_type": "execute_result"
    }
   ],
   "source": [
    "df"
   ]
  },
  {
   "cell_type": "code",
   "execution_count": 21,
   "id": "995193cf",
   "metadata": {},
   "outputs": [],
   "source": [
    "#to datetime(). to convert the temproray information\n",
    "df['date'] = pd.to_datetime(df[['year','months','day','hour']])"
   ]
  },
  {
   "cell_type": "code",
   "execution_count": 22,
   "id": "5a407768",
   "metadata": {
    "scrolled": true
   },
   "outputs": [
    {
     "data": {
      "text/html": [
       "<div>\n",
       "<style scoped>\n",
       "    .dataframe tbody tr th:only-of-type {\n",
       "        vertical-align: middle;\n",
       "    }\n",
       "\n",
       "    .dataframe tbody tr th {\n",
       "        vertical-align: top;\n",
       "    }\n",
       "\n",
       "    .dataframe thead th {\n",
       "        text-align: right;\n",
       "    }\n",
       "</style>\n",
       "<table border=\"1\" class=\"dataframe\">\n",
       "  <thead>\n",
       "    <tr style=\"text-align: right;\">\n",
       "      <th></th>\n",
       "      <th>year</th>\n",
       "      <th>months</th>\n",
       "      <th>day</th>\n",
       "      <th>hour</th>\n",
       "      <th>data</th>\n",
       "      <th>date</th>\n",
       "    </tr>\n",
       "  </thead>\n",
       "  <tbody>\n",
       "    <tr>\n",
       "      <th>0</th>\n",
       "      <td>2022</td>\n",
       "      <td>12</td>\n",
       "      <td>20</td>\n",
       "      <td>23</td>\n",
       "      <td>a</td>\n",
       "      <td>2022-12-20 23:00:00</td>\n",
       "    </tr>\n",
       "    <tr>\n",
       "      <th>1</th>\n",
       "      <td>2022</td>\n",
       "      <td>11</td>\n",
       "      <td>15</td>\n",
       "      <td>20</td>\n",
       "      <td>b</td>\n",
       "      <td>2022-11-15 20:00:00</td>\n",
       "    </tr>\n",
       "    <tr>\n",
       "      <th>2</th>\n",
       "      <td>2020</td>\n",
       "      <td>9</td>\n",
       "      <td>6</td>\n",
       "      <td>9</td>\n",
       "      <td>c</td>\n",
       "      <td>2020-09-06 09:00:00</td>\n",
       "    </tr>\n",
       "  </tbody>\n",
       "</table>\n",
       "</div>"
      ],
      "text/plain": [
       "   year  months  day  hour data                date\n",
       "0  2022      12   20    23    a 2022-12-20 23:00:00\n",
       "1  2022      11   15    20    b 2022-11-15 20:00:00\n",
       "2  2020       9    6     9    c 2020-09-06 09:00:00"
      ]
     },
     "execution_count": 22,
     "metadata": {},
     "output_type": "execute_result"
    }
   ],
   "source": [
    "df"
   ]
  }
 ],
 "metadata": {
  "kernelspec": {
   "display_name": "Python 3 (ipykernel)",
   "language": "python",
   "name": "python3"
  },
  "language_info": {
   "codemirror_mode": {
    "name": "ipython",
    "version": 3
   },
   "file_extension": ".py",
   "mimetype": "text/x-python",
   "name": "python",
   "nbconvert_exporter": "python",
   "pygments_lexer": "ipython3",
   "version": "3.11.4"
  }
 },
 "nbformat": 4,
 "nbformat_minor": 5
}
