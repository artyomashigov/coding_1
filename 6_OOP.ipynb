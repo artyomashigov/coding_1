{
 "cells": [
  {
   "cell_type": "markdown",
   "id": "ddd47a77",
   "metadata": {},
   "source": [
    "# Introduction to Objec Oriented Programming (OOP)\n",
    "\n",
    "1. Motivation\n",
    "2. What are object/classes/instances?\n",
    "3. Show some examples\n",
    "4. Exercise"
   ]
  },
  {
   "cell_type": "code",
   "execution_count": 1,
   "id": "358fc28a",
   "metadata": {},
   "outputs": [],
   "source": [
    "# Some examples of objects that we've been using already\n",
    "import pandas as pd\n",
    "import numpy as np\n",
    "\n",
    "# instantiate an object of class pd.DataFrame\n",
    "df = pd.DataFrame(np.array([[1,2],[3,4]]), columns = ['a','b'])"
   ]
  },
  {
   "cell_type": "code",
   "execution_count": 2,
   "id": "e42bb49a",
   "metadata": {},
   "outputs": [
    {
     "data": {
      "text/plain": [
       "2.0"
      ]
     },
     "execution_count": 2,
     "metadata": {},
     "output_type": "execute_result"
    }
   ],
   "source": [
    "# calling methods on objects\n",
    "df['a'].mean()"
   ]
  },
  {
   "cell_type": "code",
   "execution_count": 3,
   "id": "385311af",
   "metadata": {},
   "outputs": [
    {
     "data": {
      "text/plain": [
       "Index(['a', 'b'], dtype='object')"
      ]
     },
     "execution_count": 3,
     "metadata": {},
     "output_type": "execute_result"
    }
   ],
   "source": [
    "# accessing attributes of an objects\n",
    "\n",
    "df.columns\n"
   ]
  },
  {
   "cell_type": "code",
   "execution_count": 4,
   "id": "c7c7735b",
   "metadata": {},
   "outputs": [
    {
     "data": {
      "text/plain": [
       "['__abs__',\n",
       " '__add__',\n",
       " '__and__',\n",
       " '__bool__',\n",
       " '__ceil__',\n",
       " '__class__',\n",
       " '__delattr__',\n",
       " '__dir__',\n",
       " '__divmod__',\n",
       " '__doc__',\n",
       " '__eq__',\n",
       " '__float__',\n",
       " '__floor__',\n",
       " '__floordiv__',\n",
       " '__format__',\n",
       " '__ge__',\n",
       " '__getattribute__',\n",
       " '__getnewargs__',\n",
       " '__getstate__',\n",
       " '__gt__',\n",
       " '__hash__',\n",
       " '__index__',\n",
       " '__init__',\n",
       " '__init_subclass__',\n",
       " '__int__',\n",
       " '__invert__',\n",
       " '__le__',\n",
       " '__lshift__',\n",
       " '__lt__',\n",
       " '__mod__',\n",
       " '__mul__',\n",
       " '__ne__',\n",
       " '__neg__',\n",
       " '__new__',\n",
       " '__or__',\n",
       " '__pos__',\n",
       " '__pow__',\n",
       " '__radd__',\n",
       " '__rand__',\n",
       " '__rdivmod__',\n",
       " '__reduce__',\n",
       " '__reduce_ex__',\n",
       " '__repr__',\n",
       " '__rfloordiv__',\n",
       " '__rlshift__',\n",
       " '__rmod__',\n",
       " '__rmul__',\n",
       " '__ror__',\n",
       " '__round__',\n",
       " '__rpow__',\n",
       " '__rrshift__',\n",
       " '__rshift__',\n",
       " '__rsub__',\n",
       " '__rtruediv__',\n",
       " '__rxor__',\n",
       " '__setattr__',\n",
       " '__sizeof__',\n",
       " '__str__',\n",
       " '__sub__',\n",
       " '__subclasshook__',\n",
       " '__truediv__',\n",
       " '__trunc__',\n",
       " '__xor__',\n",
       " 'as_integer_ratio',\n",
       " 'bit_count',\n",
       " 'bit_length',\n",
       " 'conjugate',\n",
       " 'denominator',\n",
       " 'from_bytes',\n",
       " 'imag',\n",
       " 'numerator',\n",
       " 'real',\n",
       " 'to_bytes']"
      ]
     },
     "execution_count": 4,
     "metadata": {},
     "output_type": "execute_result"
    }
   ],
   "source": [
    "dir(5) # __abs__ is an example of \"dunder\" method (dunder is short for double underscore)"
   ]
  },
  {
   "cell_type": "code",
   "execution_count": 5,
   "id": "c8145fb4",
   "metadata": {},
   "outputs": [
    {
     "data": {
      "text/plain": [
       "['__abs__',\n",
       " '__add__',\n",
       " '__bool__',\n",
       " '__ceil__',\n",
       " '__class__',\n",
       " '__delattr__',\n",
       " '__dir__',\n",
       " '__divmod__',\n",
       " '__doc__',\n",
       " '__eq__',\n",
       " '__float__',\n",
       " '__floor__',\n",
       " '__floordiv__',\n",
       " '__format__',\n",
       " '__ge__',\n",
       " '__getattribute__',\n",
       " '__getformat__',\n",
       " '__getnewargs__',\n",
       " '__getstate__',\n",
       " '__gt__',\n",
       " '__hash__',\n",
       " '__init__',\n",
       " '__init_subclass__',\n",
       " '__int__',\n",
       " '__le__',\n",
       " '__lt__',\n",
       " '__mod__',\n",
       " '__mul__',\n",
       " '__ne__',\n",
       " '__neg__',\n",
       " '__new__',\n",
       " '__pos__',\n",
       " '__pow__',\n",
       " '__radd__',\n",
       " '__rdivmod__',\n",
       " '__reduce__',\n",
       " '__reduce_ex__',\n",
       " '__repr__',\n",
       " '__rfloordiv__',\n",
       " '__rmod__',\n",
       " '__rmul__',\n",
       " '__round__',\n",
       " '__rpow__',\n",
       " '__rsub__',\n",
       " '__rtruediv__',\n",
       " '__setattr__',\n",
       " '__sizeof__',\n",
       " '__str__',\n",
       " '__sub__',\n",
       " '__subclasshook__',\n",
       " '__truediv__',\n",
       " '__trunc__',\n",
       " 'as_integer_ratio',\n",
       " 'conjugate',\n",
       " 'fromhex',\n",
       " 'hex',\n",
       " 'imag',\n",
       " 'is_integer',\n",
       " 'real']"
      ]
     },
     "execution_count": 5,
     "metadata": {},
     "output_type": "execute_result"
    }
   ],
   "source": [
    "dir(5.2)"
   ]
  },
  {
   "cell_type": "code",
   "execution_count": 6,
   "id": "e47dc017",
   "metadata": {},
   "outputs": [
    {
     "data": {
      "text/plain": [
       "(5854679515581645, 1125899906842624)"
      ]
     },
     "execution_count": 6,
     "metadata": {},
     "output_type": "execute_result"
    }
   ],
   "source": [
    "a = 5.2\n",
    "a.as_integer_ratio()"
   ]
  },
  {
   "cell_type": "markdown",
   "id": "41a42967",
   "metadata": {},
   "source": [
    "# Let's build our own class!"
   ]
  },
  {
   "cell_type": "code",
   "execution_count": 7,
   "id": "7525da3b",
   "metadata": {},
   "outputs": [],
   "source": [
    "# Define empty class for Dog\n",
    "class Dog:\n",
    "    \n",
    "    pass"
   ]
  },
  {
   "cell_type": "code",
   "execution_count": 8,
   "id": "8405c936",
   "metadata": {},
   "outputs": [
    {
     "data": {
      "text/plain": [
       "__main__.Dog"
      ]
     },
     "execution_count": 8,
     "metadata": {},
     "output_type": "execute_result"
    }
   ],
   "source": [
    "dog1 = Dog()\n",
    "type(dog1)"
   ]
  },
  {
   "cell_type": "code",
   "execution_count": 9,
   "id": "13482049",
   "metadata": {},
   "outputs": [],
   "source": [
    "# Extend class Dog\n",
    "# Classes are blueprints for objects.\n",
    "# Objects are instances of classes.\n",
    "class Dog:\n",
    "    \n",
    "    # Constructor or initiation of method\n",
    "    def __init__(self, name, age):\n",
    "        #self.name and self.age are instance attributes\n",
    "        #they belong to a particulare instance of the class\n",
    "        self.name = name\n",
    "        self.age = age"
   ]
  },
  {
   "cell_type": "code",
   "execution_count": 10,
   "id": "ea51c546",
   "metadata": {},
   "outputs": [],
   "source": [
    "dog1 = Dog('Jeff',8)"
   ]
  },
  {
   "cell_type": "code",
   "execution_count": 11,
   "id": "d1948d69",
   "metadata": {},
   "outputs": [
    {
     "data": {
      "text/plain": [
       "__main__.Dog"
      ]
     },
     "execution_count": 11,
     "metadata": {},
     "output_type": "execute_result"
    }
   ],
   "source": [
    "type(dog1)"
   ]
  },
  {
   "cell_type": "code",
   "execution_count": 12,
   "id": "d0a237e3",
   "metadata": {},
   "outputs": [
    {
     "data": {
      "text/plain": [
       "'Jeff'"
      ]
     },
     "execution_count": 12,
     "metadata": {},
     "output_type": "execute_result"
    }
   ],
   "source": [
    "dog1.name"
   ]
  },
  {
   "cell_type": "code",
   "execution_count": 13,
   "id": "76a44f8f",
   "metadata": {},
   "outputs": [
    {
     "data": {
      "text/plain": [
       "8"
      ]
     },
     "execution_count": 13,
     "metadata": {},
     "output_type": "execute_result"
    }
   ],
   "source": [
    "dog1.age"
   ]
  },
  {
   "cell_type": "code",
   "execution_count": 14,
   "id": "6b258c8b",
   "metadata": {},
   "outputs": [],
   "source": [
    "dog2 = Dog('Bella',7)"
   ]
  },
  {
   "cell_type": "code",
   "execution_count": 15,
   "id": "d1237ad8",
   "metadata": {},
   "outputs": [],
   "source": [
    "# We want to add class attributes that are shared among all instances of a class\n",
    "\n",
    "class Dog:\n",
    "    \n",
    "    # Add class attribute\n",
    "    species = 'Canis familiaries'\n",
    "    # Instantiation method with instance attributes\n",
    "    def __init__(self, name,age):\n",
    "        self.name = name\n",
    "        self.age = age\n",
    "        \n",
    "    "
   ]
  },
  {
   "cell_type": "code",
   "execution_count": 16,
   "id": "ae3e4338",
   "metadata": {},
   "outputs": [],
   "source": [
    "dog3 = Dog('Freddy', 5)\n",
    "dog4 = Dog('Hans', 8)"
   ]
  },
  {
   "cell_type": "code",
   "execution_count": 17,
   "id": "dd81110a",
   "metadata": {},
   "outputs": [
    {
     "data": {
      "text/plain": [
       "'Canis familiaries'"
      ]
     },
     "execution_count": 17,
     "metadata": {},
     "output_type": "execute_result"
    }
   ],
   "source": [
    "dog3.species"
   ]
  },
  {
   "cell_type": "code",
   "execution_count": 18,
   "id": "95c08189",
   "metadata": {},
   "outputs": [
    {
     "data": {
      "text/plain": [
       "8"
      ]
     },
     "execution_count": 18,
     "metadata": {},
     "output_type": "execute_result"
    }
   ],
   "source": [
    "dog4.age"
   ]
  },
  {
   "cell_type": "code",
   "execution_count": 19,
   "id": "35a2133c",
   "metadata": {},
   "outputs": [],
   "source": [
    "# Reassign attributes of a class\n",
    "dog4.age = 9"
   ]
  },
  {
   "cell_type": "code",
   "execution_count": 20,
   "id": "f043e66e",
   "metadata": {},
   "outputs": [
    {
     "data": {
      "text/plain": [
       "9"
      ]
     },
     "execution_count": 20,
     "metadata": {},
     "output_type": "execute_result"
    }
   ],
   "source": [
    "dog4.age"
   ]
  },
  {
   "cell_type": "code",
   "execution_count": 21,
   "id": "c6d02351",
   "metadata": {},
   "outputs": [],
   "source": [
    "# let's have a look at methods\n",
    "class Dog:\n",
    "    \n",
    "    # Add class attribute\n",
    "    species = 'Canis familiaries'\n",
    "    # Instantiation method with instance attributes\n",
    "    def __init__(self, name,age):\n",
    "        self.name = name\n",
    "        self.age = age\n",
    "    \n",
    "    # Let our dogs speak\n",
    "    def speak(self,sound):\n",
    "        return f'{self.name} says {sound}.'\n",
    "    \n",
    "    # method to describe our dog\n",
    "    def description(self):\n",
    "        return f'{self.name} is {self.age} years old.'"
   ]
  },
  {
   "cell_type": "code",
   "execution_count": 22,
   "id": "48833adb",
   "metadata": {},
   "outputs": [],
   "source": [
    "dog5 = Dog('Priscilla', 12)"
   ]
  },
  {
   "cell_type": "code",
   "execution_count": 23,
   "id": "84795140",
   "metadata": {},
   "outputs": [
    {
     "data": {
      "text/plain": [
       "'Priscilla says woof.'"
      ]
     },
     "execution_count": 23,
     "metadata": {},
     "output_type": "execute_result"
    }
   ],
   "source": [
    "dog5.speak('woof')"
   ]
  },
  {
   "cell_type": "code",
   "execution_count": 24,
   "id": "6e771dac",
   "metadata": {},
   "outputs": [],
   "source": [
    "# Make sure to get something nice withe the print using __str__()\n",
    "\n",
    "class Dog:\n",
    "    \n",
    "    # Add class attribute\n",
    "    species = 'Canis familiaries'\n",
    "    # Instantiation method with instance attributes\n",
    "    def __init__(self, name,age):\n",
    "        self.name = name\n",
    "        self.age = age\n",
    "    \n",
    "    # Let our dogs speak\n",
    "    def speak(self,sound):\n",
    "        return f'{self.name} says {sound}.'\n",
    "    \n",
    "    # using __str__ instead of description method\n",
    "    def __str__(self):\n",
    "        return f'{self.name} is {self.age} years old.'"
   ]
  },
  {
   "cell_type": "code",
   "execution_count": 25,
   "id": "6af63ce7",
   "metadata": {},
   "outputs": [
    {
     "name": "stdout",
     "output_type": "stream",
     "text": [
      "<__main__.Dog object at 0x00000218F6971150>\n"
     ]
    }
   ],
   "source": [
    "print(dog5)"
   ]
  },
  {
   "cell_type": "code",
   "execution_count": 26,
   "id": "a23b16d6",
   "metadata": {},
   "outputs": [
    {
     "name": "stdout",
     "output_type": "stream",
     "text": [
      "<__main__.Dog object at 0x00000218F6971150>\n"
     ]
    }
   ],
   "source": [
    "print(dog5)"
   ]
  },
  {
   "cell_type": "code",
   "execution_count": 27,
   "id": "338d0867",
   "metadata": {},
   "outputs": [],
   "source": [
    "dog6 = Dog('Chris',2)"
   ]
  },
  {
   "cell_type": "code",
   "execution_count": 28,
   "id": "d290f6c9",
   "metadata": {},
   "outputs": [
    {
     "name": "stdout",
     "output_type": "stream",
     "text": [
      "Chris is 2 years old.\n"
     ]
    }
   ],
   "source": [
    "print(dog6)"
   ]
  },
  {
   "cell_type": "code",
   "execution_count": 29,
   "id": "309ce656",
   "metadata": {},
   "outputs": [],
   "source": [
    "# Class inheritence\n",
    "\n",
    "class Terrier(Dog):\n",
    "    pass"
   ]
  },
  {
   "cell_type": "code",
   "execution_count": 30,
   "id": "2f5f9c24",
   "metadata": {},
   "outputs": [],
   "source": [
    "terrier1 = Terrier('Terry',5)"
   ]
  },
  {
   "cell_type": "code",
   "execution_count": 31,
   "id": "ead4c2c1",
   "metadata": {},
   "outputs": [
    {
     "name": "stdout",
     "output_type": "stream",
     "text": [
      "Terry is 5 years old.\n"
     ]
    }
   ],
   "source": [
    "print(terrier1)"
   ]
  },
  {
   "cell_type": "markdown",
   "id": "f9a774d1",
   "metadata": {},
   "source": [
    "We use pascalcase for classes like `SchoolBus`"
   ]
  },
  {
   "cell_type": "markdown",
   "id": "15fd1c38",
   "metadata": {},
   "source": [
    "### OOP exercise\n",
    "We want to represent a bus as a class called `Bus`. \n",
    "\n",
    "1. Every instance of the `Bus` class should have an attribute called basic_fare equal to 2.\n",
    "2. Instances of the `Bus` class should have the following attributes:\n",
    "   1. `brand`, eg. 'Ford','Chrysler',etc\n",
    "   2. `max_speed`\n",
    "   3. `milage`\n",
    "   4. `capacity`\n",
    "   5. `load`, current number of people\n",
    "3. Define a reasonable `__str__` method for our `Bus` instances\n",
    "4. Define a method that let's you add people to the bus.\n",
    "5. Define a method that calculates the current fare price. The fare price is equal to the basic_fare if there are no passengers on the bus. Otherwise. the fare price is equal to the number of passengers times the basic fare (ie `load` times `basic_fare`)"
   ]
  },
  {
   "cell_type": "code",
   "execution_count": 32,
   "id": "ee6dfa1f",
   "metadata": {},
   "outputs": [],
   "source": [
    "# define a class\n",
    "class Bus:\n",
    "    \n",
    "    # attribute\n",
    "    basic_fare = 2\n",
    "    \n",
    "    def __init__(self, brand, max_speed,milage, capacity, load):\n",
    "        self.brand = brand\n",
    "        self.max_speed = max_speed\n",
    "        self.milage = milage\n",
    "        self.capacity = capacity\n",
    "        self.load = load\n",
    "    \n",
    "    # a reasonable str method\n",
    "    def __str__(self):\n",
    "        return f'The {self.brand} bus have {self.capacity} capacity, its maximum speed is {self.max_speed}, \\nits milage is {self.milage}. Current load is {self.load}'\n",
    "    \n",
    "    # add people to the bus\n",
    "    def add_people(self, numberofpeople):\n",
    "        self.load = self.load + numberofpeople\n",
    "        return f'Now there are {self.load} people on the bus'\n",
    "    \n",
    "    # define the price of a ticket    \n",
    "    def fareprice(self):\n",
    "        if self.load == 0:\n",
    "            return f'The fare is {self.basic_fare}'\n",
    "        else:\n",
    "            return f'The fare is {self.load * self.basic_fare}'\n",
    "        \n",
    "        \n",
    "    "
   ]
  },
  {
   "cell_type": "code",
   "execution_count": 33,
   "id": "fd034e6e",
   "metadata": {},
   "outputs": [],
   "source": [
    "bus1 = Bus('Mercedes',100,25302,50,21)"
   ]
  },
  {
   "cell_type": "code",
   "execution_count": 34,
   "id": "b51b8dcc",
   "metadata": {},
   "outputs": [
    {
     "data": {
      "text/plain": [
       "2"
      ]
     },
     "execution_count": 34,
     "metadata": {},
     "output_type": "execute_result"
    }
   ],
   "source": [
    "bus1.basic_fare"
   ]
  },
  {
   "cell_type": "code",
   "execution_count": 35,
   "id": "4ba53279",
   "metadata": {},
   "outputs": [
    {
     "name": "stdout",
     "output_type": "stream",
     "text": [
      "The Mercedes bus have 50 capacity, its maximum speed is 100, \n",
      "its milage is 25302. Current load is 21\n"
     ]
    }
   ],
   "source": [
    "print(bus1)"
   ]
  },
  {
   "cell_type": "code",
   "execution_count": 36,
   "id": "ef46ff72",
   "metadata": {},
   "outputs": [
    {
     "data": {
      "text/plain": [
       "'Now there are 22 people on the bus'"
      ]
     },
     "execution_count": 36,
     "metadata": {},
     "output_type": "execute_result"
    }
   ],
   "source": [
    "bus1.add_people(1)"
   ]
  },
  {
   "cell_type": "code",
   "execution_count": 37,
   "id": "2f59272c",
   "metadata": {},
   "outputs": [
    {
     "name": "stdout",
     "output_type": "stream",
     "text": [
      "The Mercedes bus have 50 capacity, its maximum speed is 100, \n",
      "its milage is 25302. Current load is 22\n"
     ]
    }
   ],
   "source": [
    "print(bus1)"
   ]
  },
  {
   "cell_type": "code",
   "execution_count": 38,
   "id": "c34ee535",
   "metadata": {},
   "outputs": [
    {
     "data": {
      "text/plain": [
       "'The fare is 44'"
      ]
     },
     "execution_count": 38,
     "metadata": {},
     "output_type": "execute_result"
    }
   ],
   "source": [
    "bus1.fareprice()"
   ]
  },
  {
   "cell_type": "code",
   "execution_count": 39,
   "id": "f086397c",
   "metadata": {},
   "outputs": [],
   "source": [
    "bus2 = Bus('GM',90,115302,40,0)\n",
    "bus3 = Bus('Toyota',85,52735,44,12)"
   ]
  },
  {
   "cell_type": "code",
   "execution_count": 40,
   "id": "67ce91d0",
   "metadata": {},
   "outputs": [
    {
     "data": {
      "text/plain": [
       "'The fare is 2'"
      ]
     },
     "execution_count": 40,
     "metadata": {},
     "output_type": "execute_result"
    }
   ],
   "source": [
    "bus2.fareprice()"
   ]
  },
  {
   "cell_type": "code",
   "execution_count": 41,
   "id": "35d7ce33",
   "metadata": {},
   "outputs": [
    {
     "data": {
      "text/plain": [
       "'The fare is 24'"
      ]
     },
     "execution_count": 41,
     "metadata": {},
     "output_type": "execute_result"
    }
   ],
   "source": [
    "bus3.fareprice()"
   ]
  },
  {
   "cell_type": "code",
   "execution_count": 1,
   "id": "cdb865a4",
   "metadata": {},
   "outputs": [],
   "source": [
    "# option 2\n",
    "# define a class\n",
    "class Bus:\n",
    "    \n",
    "    # attribute\n",
    "    basic_fare = 2\n",
    "    \n",
    "    def __init__(self, brand, max_speed,milage, capacity, load=0):\n",
    "        self.brand = brand\n",
    "        self.max_speed = max_speed\n",
    "        self.milage = milage\n",
    "        self.capacity = capacity\n",
    "        self.load = load\n",
    "    \n",
    "    # a reasonable str method\n",
    "    def __str__(self):\n",
    "        return f'The {self.brand} bus have {self.capacity} capacity, its maximum speed is {self.max_speed}, \\nits milage is {self.milage}.'\n",
    "    \n",
    "    # add people to the bus\n",
    "    def add_people(self, numberofpeople):\n",
    "        if (self.load + numberofpeople) <= self.capacity:\n",
    "            self.load = self.load + numberofpeople\n",
    "        else:\n",
    "            print('Not enough capacity')\n",
    "        return f'Now there are {self.load} people on the bus'\n",
    "    \n",
    "    # define the price of a ticket    \n",
    "    def fareprice(self):\n",
    "        if self.load == 0:\n",
    "            return f'The fare is {self.basic_fare}'\n",
    "        else:\n",
    "            return f'The fare is {self.load * self.basic_fare}'\n",
    "        \n"
   ]
  }
 ],
 "metadata": {
  "kernelspec": {
   "display_name": "Python 3 (ipykernel)",
   "language": "python",
   "name": "python3"
  },
  "language_info": {
   "codemirror_mode": {
    "name": "ipython",
    "version": 3
   },
   "file_extension": ".py",
   "mimetype": "text/x-python",
   "name": "python",
   "nbconvert_exporter": "python",
   "pygments_lexer": "ipython3",
   "version": "3.11.4"
  }
 },
 "nbformat": 4,
 "nbformat_minor": 5
}
