{
 "cells": [
  {
   "cell_type": "markdown",
   "id": "b859f8e8",
   "metadata": {},
   "source": [
    "# Functions\n",
    "\n"
   ]
  },
  {
   "cell_type": "code",
   "execution_count": 1,
   "id": "92e82ea8",
   "metadata": {},
   "outputs": [],
   "source": [
    "# let's define our first function\n",
    "\n",
    "def add_one(number):\n",
    "    \n",
    "    #add one to the number\n",
    "    number_plus_one = number + 1\n",
    "    \n",
    "    #return result\n",
    "    return number_plus_one    "
   ]
  },
  {
   "cell_type": "code",
   "execution_count": 2,
   "id": "c92e3f5a",
   "metadata": {},
   "outputs": [
    {
     "data": {
      "text/plain": [
       "6"
      ]
     },
     "execution_count": 2,
     "metadata": {},
     "output_type": "execute_result"
    }
   ],
   "source": [
    "add_one(5)"
   ]
  },
  {
   "cell_type": "code",
   "execution_count": 10,
   "id": "9ded9554",
   "metadata": {},
   "outputs": [],
   "source": [
    "def add_one_str(number):\n",
    "    \n",
    "    # add one to the number\n",
    "    number_plus_one = number + 1\n",
    "    \n",
    "    #print results. it will always print and won't assign to variables\n",
    "    print(number_plus_one)"
   ]
  },
  {
   "cell_type": "code",
   "execution_count": 8,
   "id": "109f83fb",
   "metadata": {},
   "outputs": [
    {
     "name": "stdout",
     "output_type": "stream",
     "text": [
      "6\n"
     ]
    }
   ],
   "source": [
    "add_one_str(5)"
   ]
  },
  {
   "cell_type": "code",
   "execution_count": 14,
   "id": "b45eba22",
   "metadata": {},
   "outputs": [],
   "source": [
    "x = add_one(5)"
   ]
  },
  {
   "cell_type": "code",
   "execution_count": 15,
   "id": "b80df593",
   "metadata": {},
   "outputs": [
    {
     "name": "stdout",
     "output_type": "stream",
     "text": [
      "6\n"
     ]
    }
   ],
   "source": [
    "y = add_one_str(5)"
   ]
  },
  {
   "cell_type": "code",
   "execution_count": 16,
   "id": "0009c04b",
   "metadata": {},
   "outputs": [
    {
     "name": "stdout",
     "output_type": "stream",
     "text": [
      "6 None\n"
     ]
    }
   ],
   "source": [
    "print(x, y)"
   ]
  },
  {
   "cell_type": "code",
   "execution_count": 17,
   "id": "cf83d951",
   "metadata": {},
   "outputs": [],
   "source": [
    "#Functions return more than 1 output\n",
    "def add_one_return_both(num1):\n",
    "    # add one to num1\n",
    "    num2 = num1 + 1\n",
    "    return num1, num2\n",
    "    "
   ]
  },
  {
   "cell_type": "code",
   "execution_count": 18,
   "id": "7ff5dc35",
   "metadata": {},
   "outputs": [
    {
     "data": {
      "text/plain": [
       "(6, 7)"
      ]
     },
     "execution_count": 18,
     "metadata": {},
     "output_type": "execute_result"
    }
   ],
   "source": [
    "add_one_return_both(6)"
   ]
  },
  {
   "cell_type": "code",
   "execution_count": 19,
   "id": "97388fed",
   "metadata": {},
   "outputs": [],
   "source": [
    "a, b  = add_one_return_both(5)"
   ]
  },
  {
   "cell_type": "code",
   "execution_count": 20,
   "id": "36f4d49a",
   "metadata": {},
   "outputs": [
    {
     "name": "stdout",
     "output_type": "stream",
     "text": [
      "5 6\n"
     ]
    }
   ],
   "source": [
    "print(a,b)"
   ]
  },
  {
   "cell_type": "code",
   "execution_count": 21,
   "id": "b53418bd",
   "metadata": {},
   "outputs": [],
   "source": [
    "# fucntions with default values\n",
    "\n",
    "def num_pow(num,exponent = 3):\n",
    "    return num**exponent\n",
    "    "
   ]
  },
  {
   "cell_type": "code",
   "execution_count": 22,
   "id": "64f6cf33",
   "metadata": {},
   "outputs": [
    {
     "data": {
      "text/plain": [
       "8"
      ]
     },
     "execution_count": 22,
     "metadata": {},
     "output_type": "execute_result"
    }
   ],
   "source": [
    "num_pow(2)"
   ]
  },
  {
   "cell_type": "code",
   "execution_count": 23,
   "id": "79d6a769",
   "metadata": {},
   "outputs": [
    {
     "data": {
      "text/plain": [
       "25"
      ]
     },
     "execution_count": 23,
     "metadata": {},
     "output_type": "execute_result"
    }
   ],
   "source": [
    "num_pow(5,2)"
   ]
  },
  {
   "cell_type": "code",
   "execution_count": 26,
   "id": "b2c08bce",
   "metadata": {},
   "outputs": [],
   "source": [
    "# postional arguments vs keyword arguments:\n",
    "def subtract(num1,num2):\n",
    "    return num1 - num2"
   ]
  },
  {
   "cell_type": "code",
   "execution_count": 27,
   "id": "5a1b55bb",
   "metadata": {},
   "outputs": [
    {
     "data": {
      "text/plain": [
       "3"
      ]
     },
     "execution_count": 27,
     "metadata": {},
     "output_type": "execute_result"
    }
   ],
   "source": [
    "# use positional arguments\n",
    "subtract(5,2)"
   ]
  },
  {
   "cell_type": "code",
   "execution_count": 28,
   "id": "9448c695",
   "metadata": {},
   "outputs": [
    {
     "data": {
      "text/plain": [
       "-3"
      ]
     },
     "execution_count": 28,
     "metadata": {},
     "output_type": "execute_result"
    }
   ],
   "source": [
    "subtract(2,5)"
   ]
  },
  {
   "cell_type": "code",
   "execution_count": 30,
   "id": "173ab6aa",
   "metadata": {},
   "outputs": [
    {
     "data": {
      "text/plain": [
       "3"
      ]
     },
     "execution_count": 30,
     "metadata": {},
     "output_type": "execute_result"
    }
   ],
   "source": [
    "substract(num2 = 2, num1 = 5)"
   ]
  },
  {
   "cell_type": "code",
   "execution_count": 31,
   "id": "737c05e4",
   "metadata": {},
   "outputs": [
    {
     "data": {
      "text/plain": [
       "True"
      ]
     },
     "execution_count": 31,
     "metadata": {},
     "output_type": "execute_result"
    }
   ],
   "source": [
    "substract(num2 = 2, num1 = 5) == subtract(5,2)"
   ]
  },
  {
   "cell_type": "code",
   "execution_count": 35,
   "id": "8485361a",
   "metadata": {},
   "outputs": [],
   "source": [
    "# Function can take a variable number of arguments, keyword arguments\n",
    "def add_all_numbers(*numbers):\n",
    "    print(type(numbers))\n",
    "    \n",
    "    total = 0\n",
    "    \n",
    "    for number in numbers:\n",
    "        total += number\n",
    "    return total"
   ]
  },
  {
   "cell_type": "code",
   "execution_count": 37,
   "id": "1071b925",
   "metadata": {},
   "outputs": [
    {
     "name": "stdout",
     "output_type": "stream",
     "text": [
      "<class 'tuple'>\n"
     ]
    },
    {
     "data": {
      "text/plain": [
       "24"
      ]
     },
     "execution_count": 37,
     "metadata": {},
     "output_type": "execute_result"
    }
   ],
   "source": [
    "add_all_numbers(3,5,6,10)"
   ]
  },
  {
   "cell_type": "code",
   "execution_count": 1,
   "id": "815d604f",
   "metadata": {},
   "outputs": [],
   "source": [
    "# define a function without parameters\n",
    "\n",
    "def msg():\n",
    "    print('Hello world!')"
   ]
  },
  {
   "cell_type": "code",
   "execution_count": 2,
   "id": "da6c095d",
   "metadata": {},
   "outputs": [
    {
     "name": "stdout",
     "output_type": "stream",
     "text": [
      "Hello world!\n"
     ]
    }
   ],
   "source": [
    "msg()"
   ]
  },
  {
   "cell_type": "code",
   "execution_count": 5,
   "id": "ecbd779e",
   "metadata": {},
   "outputs": [],
   "source": [
    "# define a function and write a docstring\n",
    "def cast_lastitems_to_string(list_of_objects):\n",
    "    \"\"\"\n",
    "    Casts a list of various elements to string.\n",
    "    The function that castst elements in a list to a list of strings,\n",
    "    whatever their original type is.\n",
    "    \n",
    "    Parameters: \n",
    "    list: A list of various data types\n",
    "    \n",
    "    Returns:\n",
    "    list: A list of strings\n",
    "    \"\"\"\n",
    "    \n",
    "    #function body\n",
    "    for i in range(len(list_of_objects)):\n",
    "        list_of_objects[i] = str(list_of_objects[i])\n",
    "    \n",
    "    \n",
    "    #return\n",
    "    return list_of_objects"
   ]
  },
  {
   "cell_type": "code",
   "execution_count": 4,
   "id": "c5203d3a",
   "metadata": {},
   "outputs": [
    {
     "name": "stdout",
     "output_type": "stream",
     "text": [
      "Help on function cast_lastitems_to_string in module __main__:\n",
      "\n",
      "cast_lastitems_to_string(list_of_objects)\n",
      "    Casts a list of various elements to string.\n",
      "    The function that castst elements in a list to a list of strings,\n",
      "    whatever their original type is.\n",
      "    \n",
      "    Parameters: \n",
      "    list: A list of various data types\n",
      "    \n",
      "    Returns:\n",
      "    list: A list of strings\n",
      "\n"
     ]
    }
   ],
   "source": [
    "help(cast_lastitems_to_string)"
   ]
  },
  {
   "cell_type": "code",
   "execution_count": 9,
   "id": "0a66d4f4",
   "metadata": {},
   "outputs": [
    {
     "data": {
      "text/plain": [
       "[\"[1, 'b', 3]\", '5', \"['5', 5]\"]"
      ]
     },
     "execution_count": 9,
     "metadata": {},
     "output_type": "execute_result"
    }
   ],
   "source": [
    "# using the function\n",
    "\n",
    "cast_lastitems_to_string([[1,'b',3],5,['5',5]])"
   ]
  },
  {
   "cell_type": "markdown",
   "id": "484f9386",
   "metadata": {},
   "source": [
    "### Lambda function\n",
    "$\\lambda$ functions are anonymous that can be useful. They use the `lambda` keyword "
   ]
  },
  {
   "cell_type": "code",
   "execution_count": 10,
   "id": "4d6ae8a1",
   "metadata": {},
   "outputs": [],
   "source": [
    "# for comparison let's define the function that returns the square of a number\n",
    "\n",
    "def square(num):\n",
    "    \"\"\"\n",
    "    returns the square of a nubmer.\n",
    "    \n",
    "    Parameters:\n",
    "    int num: number\n",
    "    Returns:\n",
    "    int num: square of a number\n",
    "    \n",
    "    \"\"\"\n",
    "    return num**2\n",
    "\n",
    "    "
   ]
  },
  {
   "cell_type": "code",
   "execution_count": 13,
   "id": "fb1219b2",
   "metadata": {},
   "outputs": [],
   "source": [
    "#lambda equivalent\n",
    "\n",
    "square_lambda = lambda x: x**2"
   ]
  },
  {
   "cell_type": "code",
   "execution_count": 14,
   "id": "d44a2a4b",
   "metadata": {},
   "outputs": [
    {
     "data": {
      "text/plain": [
       "4"
      ]
     },
     "execution_count": 14,
     "metadata": {},
     "output_type": "execute_result"
    }
   ],
   "source": [
    "square(2)"
   ]
  },
  {
   "cell_type": "code",
   "execution_count": 15,
   "id": "2bcaec79",
   "metadata": {},
   "outputs": [
    {
     "data": {
      "text/plain": [
       "4"
      ]
     },
     "execution_count": 15,
     "metadata": {},
     "output_type": "execute_result"
    }
   ],
   "source": [
    "square_lambda(2)"
   ]
  },
  {
   "cell_type": "code",
   "execution_count": 22,
   "id": "5abcf77b",
   "metadata": {},
   "outputs": [],
   "source": [
    "#can be combined with list comprehension\n",
    "\n",
    "ls_numbers = list(range(0,10))"
   ]
  },
  {
   "cell_type": "code",
   "execution_count": 24,
   "id": "1b76f4a8",
   "metadata": {},
   "outputs": [],
   "source": [
    "ls_square = [x**2 for x in ls_numbers]"
   ]
  },
  {
   "cell_type": "code",
   "execution_count": 25,
   "id": "e0e09406",
   "metadata": {},
   "outputs": [
    {
     "data": {
      "text/plain": [
       "[0, 1, 4, 9, 16, 25, 36, 49, 64, 81]"
      ]
     },
     "execution_count": 25,
     "metadata": {},
     "output_type": "execute_result"
    }
   ],
   "source": [
    "ls_square"
   ]
  },
  {
   "cell_type": "code",
   "execution_count": 27,
   "id": "2ccea7bf",
   "metadata": {},
   "outputs": [],
   "source": [
    "# Let's use a list comprehension with lambda"
   ]
  },
  {
   "cell_type": "code",
   "execution_count": 29,
   "id": "8d001cdb",
   "metadata": {},
   "outputs": [
    {
     "data": {
      "text/plain": [
       "[2, 10, 26, 50, 82]"
      ]
     },
     "execution_count": 29,
     "metadata": {},
     "output_type": "execute_result"
    }
   ],
   "source": [
    "sq_one = lambda x: x**2 + 1\n",
    "[sq_one(x) for x in ls_numbers if sq_one(x)%2==0]"
   ]
  },
  {
   "cell_type": "code",
   "execution_count": null,
   "id": "960006ab",
   "metadata": {},
   "outputs": [],
   "source": []
  }
 ],
 "metadata": {
  "kernelspec": {
   "display_name": "Python 3 (ipykernel)",
   "language": "python",
   "name": "python3"
  },
  "language_info": {
   "codemirror_mode": {
    "name": "ipython",
    "version": 3
   },
   "file_extension": ".py",
   "mimetype": "text/x-python",
   "name": "python",
   "nbconvert_exporter": "python",
   "pygments_lexer": "ipython3",
   "version": "3.11.4"
  }
 },
 "nbformat": 4,
 "nbformat_minor": 5
}
