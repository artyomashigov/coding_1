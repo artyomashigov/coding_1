{
 "cells": [
  {
   "cell_type": "markdown",
   "id": "ca8781e7",
   "metadata": {},
   "source": [
    "# Unit 1: Conditionals\n",
    "\n",
    "1. Logical operators\n",
    "2. Conditional statements: the `if` statement\n",
    "3. Control flows\n",
    "- `for` loops\n",
    "- `while` loops\n",
    "- list comprehension"
   ]
  },
  {
   "cell_type": "markdown",
   "id": "724a821b",
   "metadata": {},
   "source": [
    "### Logical operators\n",
    "\n",
    "This is how we define conditions for `if` statements. They evaluate to `True` or `False`."
   ]
  },
  {
   "cell_type": "code",
   "execution_count": 1,
   "id": "d0fe10f4",
   "metadata": {},
   "outputs": [
    {
     "data": {
      "text/plain": [
       "False"
      ]
     },
     "execution_count": 1,
     "metadata": {},
     "output_type": "execute_result"
    }
   ],
   "source": [
    "# Testing for equality\n",
    "5 == 2"
   ]
  },
  {
   "cell_type": "code",
   "execution_count": 2,
   "id": "b91db788",
   "metadata": {},
   "outputs": [
    {
     "data": {
      "text/plain": [
       "True"
      ]
     },
     "execution_count": 2,
     "metadata": {},
     "output_type": "execute_result"
    }
   ],
   "source": [
    "2 == 2"
   ]
  },
  {
   "cell_type": "code",
   "execution_count": 3,
   "id": "e8d8df15",
   "metadata": {},
   "outputs": [
    {
     "data": {
      "text/plain": [
       "False"
      ]
     },
     "execution_count": 3,
     "metadata": {},
     "output_type": "execute_result"
    }
   ],
   "source": [
    "'2' == 2"
   ]
  },
  {
   "cell_type": "code",
   "execution_count": 4,
   "id": "ce76218e",
   "metadata": {},
   "outputs": [
    {
     "data": {
      "text/plain": [
       "True"
      ]
     },
     "execution_count": 4,
     "metadata": {},
     "output_type": "execute_result"
    }
   ],
   "source": [
    "int('2') == 2"
   ]
  },
  {
   "cell_type": "code",
   "execution_count": 6,
   "id": "24ee2b82",
   "metadata": {},
   "outputs": [
    {
     "data": {
      "text/plain": [
       "True"
      ]
     },
     "execution_count": 6,
     "metadata": {},
     "output_type": "execute_result"
    }
   ],
   "source": [
    "# testing for membership\n",
    "2 in [1,2,3]"
   ]
  },
  {
   "cell_type": "code",
   "execution_count": 7,
   "id": "97c5e7b5",
   "metadata": {},
   "outputs": [
    {
     "data": {
      "text/plain": [
       "False"
      ]
     },
     "execution_count": 7,
     "metadata": {},
     "output_type": "execute_result"
    }
   ],
   "source": [
    "2 not in [1,2,3]"
   ]
  },
  {
   "cell_type": "code",
   "execution_count": 8,
   "id": "c00db273",
   "metadata": {},
   "outputs": [
    {
     "data": {
      "text/plain": [
       "True"
      ]
     },
     "execution_count": 8,
     "metadata": {},
     "output_type": "execute_result"
    }
   ],
   "source": [
    "# testing for inequality\n",
    "2 != 4"
   ]
  },
  {
   "cell_type": "code",
   "execution_count": 10,
   "id": "16528aad",
   "metadata": {},
   "outputs": [
    {
     "data": {
      "text/plain": [
       "True"
      ]
     },
     "execution_count": 10,
     "metadata": {},
     "output_type": "execute_result"
    }
   ],
   "source": [
    "# composite logical statements (and) operator\n",
    "2 == 2 and 5 == 5"
   ]
  },
  {
   "cell_type": "code",
   "execution_count": 12,
   "id": "8777cfe9",
   "metadata": {},
   "outputs": [
    {
     "data": {
      "text/plain": [
       "True"
      ]
     },
     "execution_count": 12,
     "metadata": {},
     "output_type": "execute_result"
    }
   ],
   "source": [
    "# composite logical statements (or) operator\n",
    "2 == 3 or 5 == 5"
   ]
  },
  {
   "cell_type": "markdown",
   "id": "ecd1dedf",
   "metadata": {},
   "source": [
    "### Conditional statements\n",
    "\n",
    "Contiditionals have an `if-else` structure. The program performs an operation if certain conditions are met"
   ]
  },
  {
   "cell_type": "code",
   "execution_count": 13,
   "id": "82845fa8",
   "metadata": {},
   "outputs": [],
   "source": [
    "import random"
   ]
  },
  {
   "cell_type": "code",
   "execution_count": 14,
   "id": "5a20c517",
   "metadata": {},
   "outputs": [
    {
     "data": {
      "text/plain": [
       "22"
      ]
     },
     "execution_count": 14,
     "metadata": {},
     "output_type": "execute_result"
    }
   ],
   "source": [
    "random_number = random.randint(20,34)\n",
    "random_number"
   ]
  },
  {
   "cell_type": "code",
   "execution_count": 16,
   "id": "8bd75151",
   "metadata": {},
   "outputs": [
    {
     "name": "stdout",
     "output_type": "stream",
     "text": [
      "The number is small.\n"
     ]
    }
   ],
   "source": [
    "if random_number < 25:\n",
    "    print('The number is small.')\n",
    "elif random_number <30:\n",
    "    print('The number is moderately high.')\n",
    "else:\n",
    "    print(\"It's a large number.\")"
   ]
  },
  {
   "cell_type": "code",
   "execution_count": 20,
   "id": "dcc1651b",
   "metadata": {},
   "outputs": [
    {
     "name": "stdout",
     "output_type": "stream",
     "text": [
      "random_number is large.\n",
      "random_number2 is larger than random_number1\n"
     ]
    }
   ],
   "source": [
    "# nesting if statements\n",
    "random_nubmer1 = random.randint(1,12)\n",
    "random_nubmer2 = random.randint(1,16)\n",
    "\n",
    "if random_nubmer1 > 6:\n",
    "    print(\"random_number is large.\")\n",
    "    if random_nubmer2 > random_nubmer1:\n",
    "        print(\"random_number2 is larger than random_number1\")"
   ]
  },
  {
   "cell_type": "code",
   "execution_count": 21,
   "id": "b9fd7f1d",
   "metadata": {},
   "outputs": [],
   "source": [
    "# if statements with composite logical statements\n",
    "random_nubmer1 = random.randint(1,12)\n",
    "random_nubmer2 = random.randint(1,16)\n",
    "if random_nubmer1 > 6 and random_nubmer2 > random_nubmer1:\n",
    "    print(random_nubmer1, 'is large')\n",
    "    print(random_nubmer2,'is larger than',random_nubmer1)"
   ]
  },
  {
   "cell_type": "markdown",
   "id": "55eba477",
   "metadata": {},
   "source": [
    "### Loops: `for` loop\n",
    "\n",
    "for loops can operate on iterables"
   ]
  },
  {
   "cell_type": "code",
   "execution_count": 23,
   "id": "6c1007b7",
   "metadata": {},
   "outputs": [],
   "source": [
    "my_list = [1, 2, 3, 4]"
   ]
  },
  {
   "cell_type": "code",
   "execution_count": 25,
   "id": "8e846bd6",
   "metadata": {},
   "outputs": [
    {
     "name": "stdout",
     "output_type": "stream",
     "text": [
      "1\n",
      "2\n",
      "3\n",
      "4\n"
     ]
    }
   ],
   "source": [
    "#Define for loop over my_list\n",
    "for i in my_list:\n",
    "    print(i)"
   ]
  },
  {
   "cell_type": "code",
   "execution_count": 28,
   "id": "f7749871",
   "metadata": {},
   "outputs": [
    {
     "name": "stdout",
     "output_type": "stream",
     "text": [
      "0 1 2 3 4 5 6 7 8 9 10 11 12 13 14 15 16 17 18 19 "
     ]
    }
   ],
   "source": [
    "for i in range(20):\n",
    "    print(i, end = ' ')"
   ]
  },
  {
   "cell_type": "code",
   "execution_count": 34,
   "id": "0b7075fc",
   "metadata": {},
   "outputs": [
    {
     "name": "stdout",
     "output_type": "stream",
     "text": [
      "0 is even. 1 is odd. 2 is even. 3 is odd. 4 is even. 5 is odd. 6 is even. 7 is odd. 8 is even. 9 is odd. 10 is even. 11 is odd. 12 is even. 13 is odd. 14 is even. 15 is odd. 16 is even. 17 is odd. 18 is even. 19 is odd. "
     ]
    }
   ],
   "source": [
    "for i in range(20):\n",
    "    if i%2 == 0:\n",
    "        print(i,'is even', end = '. ')\n",
    "    else:\n",
    "        print(i,'is odd', end = '. ')"
   ]
  },
  {
   "cell_type": "code",
   "execution_count": 35,
   "id": "73c5cfc7",
   "metadata": {},
   "outputs": [
    {
     "name": "stdout",
     "output_type": "stream",
     "text": [
      "Business 8\n",
      "analytics 9\n",
      "with 4\n",
      "Python 6\n"
     ]
    }
   ],
   "source": [
    "for word in ['Business','analytics','with','Python']:\n",
    "    print(word, len(word))"
   ]
  },
  {
   "cell_type": "code",
   "execution_count": 36,
   "id": "66993437",
   "metadata": {},
   "outputs": [],
   "source": [
    "#for loop over list with strings\n",
    "for word in ['Business','analytics']:\n",
    "    pass"
   ]
  },
  {
   "cell_type": "code",
   "execution_count": 39,
   "id": "250af89d",
   "metadata": {},
   "outputs": [
    {
     "name": "stdout",
     "output_type": "stream",
     "text": [
      "0 a\n",
      "1 b\n",
      "2 c\n"
     ]
    }
   ],
   "source": [
    "#enumerate() function\n",
    "for index,value in enumerate(['a','b','c','d']):\n",
    "    if index <3:\n",
    "        print(index, value)\n",
    "    else:\n",
    "        continue"
   ]
  },
  {
   "cell_type": "code",
   "execution_count": 43,
   "id": "bcb34952",
   "metadata": {},
   "outputs": [
    {
     "name": "stdout",
     "output_type": "stream",
     "text": [
      "['A', 'B', 'C', 'D', 'E', 'F', 'G', 'H', 'I', 'J', 'K', 'L', 'M', 'N', 'O', 'P', 'Q', 'R', 'S', 'T', 'U', 'V', 'W', 'X', 'Y', 'Z']\n"
     ]
    }
   ],
   "source": [
    "# using a for loop to dynamically create a list\n",
    "capital_letters = [chr(i) for i in range(65,91)]\n",
    "print(capital_letters)"
   ]
  },
  {
   "cell_type": "markdown",
   "id": "8e938163",
   "metadata": {},
   "source": [
    "### Markdown syntax\n",
    "\n",
    "1. **Bold** double `*` is used for bold text\n",
    "2. *Italic* one `*` is used for italic text\n",
    "3. ***Bold Italic*** triple `***` is used for bold italic text"
   ]
  },
  {
   "cell_type": "markdown",
   "id": "ffcdcf9e",
   "metadata": {},
   "source": [
    "## Loops: the 'while"
   ]
  },
  {
   "cell_type": "code",
   "execution_count": 48,
   "id": "1a6bece0",
   "metadata": {},
   "outputs": [
    {
     "name": "stdout",
     "output_type": "stream",
     "text": [
      "0 1 2 3 4 "
     ]
    }
   ],
   "source": [
    "counter = 0\n",
    "while counter < 5:\n",
    "    print(counter, end = ' ')\n",
    "    counter +=1"
   ]
  },
  {
   "cell_type": "markdown",
   "id": "97de4664",
   "metadata": {},
   "source": [
    "## List comprehension\n",
    "\n",
    "There is a handy way to generate lists"
   ]
  },
  {
   "cell_type": "code",
   "execution_count": 49,
   "id": "0a0b38d8",
   "metadata": {},
   "outputs": [],
   "source": [
    "squares = [i**2 for i in range(0,10)]"
   ]
  },
  {
   "cell_type": "code",
   "execution_count": 50,
   "id": "02dd13bd",
   "metadata": {},
   "outputs": [
    {
     "data": {
      "text/plain": [
       "[0, 1, 4, 9, 16, 25, 36, 49, 64, 81]"
      ]
     },
     "execution_count": 50,
     "metadata": {},
     "output_type": "execute_result"
    }
   ],
   "source": [
    "squares"
   ]
  },
  {
   "cell_type": "code",
   "execution_count": 51,
   "id": "12b04bca",
   "metadata": {},
   "outputs": [],
   "source": [
    "squares_even = [i**2 for i in range(0,10) if i**2%2==0]"
   ]
  },
  {
   "cell_type": "code",
   "execution_count": 52,
   "id": "75901bd0",
   "metadata": {},
   "outputs": [
    {
     "data": {
      "text/plain": [
       "[0, 4, 16, 36, 64]"
      ]
     },
     "execution_count": 52,
     "metadata": {},
     "output_type": "execute_result"
    }
   ],
   "source": [
    "squares_even"
   ]
  },
  {
   "cell_type": "code",
   "execution_count": 55,
   "id": "d1599c98",
   "metadata": {},
   "outputs": [],
   "source": [
    "even_odd_str = [f'even {i**2}' if i%2==0 else f'odd {i**2}' for i in squares]"
   ]
  },
  {
   "cell_type": "code",
   "execution_count": 56,
   "id": "27b1ab2e",
   "metadata": {},
   "outputs": [
    {
     "data": {
      "text/plain": [
       "['even 0',\n",
       " 'odd 1',\n",
       " 'even 16',\n",
       " 'odd 81',\n",
       " 'even 256',\n",
       " 'odd 625',\n",
       " 'even 1296',\n",
       " 'odd 2401',\n",
       " 'even 4096',\n",
       " 'odd 6561']"
      ]
     },
     "execution_count": 56,
     "metadata": {},
     "output_type": "execute_result"
    }
   ],
   "source": [
    "even_odd_str"
   ]
  }
 ],
 "metadata": {
  "kernelspec": {
   "display_name": "Python 3 (ipykernel)",
   "language": "python",
   "name": "python3"
  },
  "language_info": {
   "codemirror_mode": {
    "name": "ipython",
    "version": 3
   },
   "file_extension": ".py",
   "mimetype": "text/x-python",
   "name": "python",
   "nbconvert_exporter": "python",
   "pygments_lexer": "ipython3",
   "version": "3.11.4"
  }
 },
 "nbformat": 4,
 "nbformat_minor": 5
}
