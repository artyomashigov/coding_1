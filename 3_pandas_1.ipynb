{
 "cells": [
  {
   "cell_type": "markdown",
   "id": "daebdc53",
   "metadata": {},
   "source": [
    "# Pandas basics: Intro"
   ]
  },
  {
   "cell_type": "markdown",
   "id": "638ed440",
   "metadata": {},
   "source": [
    "2 objects:\n",
    "\n",
    "1. pd.Series\n",
    "2. pd.DataFrame"
   ]
  },
  {
   "cell_type": "code",
   "execution_count": 1,
   "id": "4a5a72bf",
   "metadata": {},
   "outputs": [],
   "source": [
    "import pandas as pd\n",
    "import numpy as np"
   ]
  },
  {
   "cell_type": "code",
   "execution_count": 2,
   "id": "8a3786ea",
   "metadata": {},
   "outputs": [],
   "source": [
    "# pandas series\n",
    "ps = pd.Series(['s',1,3])"
   ]
  },
  {
   "cell_type": "code",
   "execution_count": 3,
   "id": "ab2d5490",
   "metadata": {},
   "outputs": [
    {
     "data": {
      "text/plain": [
       "0    s\n",
       "1    1\n",
       "2    3\n",
       "dtype: object"
      ]
     },
     "execution_count": 3,
     "metadata": {},
     "output_type": "execute_result"
    }
   ],
   "source": [
    "ps"
   ]
  },
  {
   "cell_type": "code",
   "execution_count": 4,
   "id": "050d269a",
   "metadata": {},
   "outputs": [
    {
     "data": {
      "text/plain": [
       "pandas.core.series.Series"
      ]
     },
     "execution_count": 4,
     "metadata": {},
     "output_type": "execute_result"
    }
   ],
   "source": [
    "type(ps)"
   ]
  },
  {
   "cell_type": "code",
   "execution_count": 5,
   "id": "4a8bb43e",
   "metadata": {},
   "outputs": [
    {
     "data": {
      "text/plain": [
       "numpy.ndarray"
      ]
     },
     "execution_count": 5,
     "metadata": {},
     "output_type": "execute_result"
    }
   ],
   "source": [
    "type(ps.values)"
   ]
  },
  {
   "cell_type": "code",
   "execution_count": 6,
   "id": "53aa3cc3",
   "metadata": {},
   "outputs": [
    {
     "data": {
      "text/plain": [
       "RangeIndex(start=0, stop=3, step=1)"
      ]
     },
     "execution_count": 6,
     "metadata": {},
     "output_type": "execute_result"
    }
   ],
   "source": [
    "ps.index"
   ]
  },
  {
   "cell_type": "code",
   "execution_count": 7,
   "id": "4388800a",
   "metadata": {},
   "outputs": [],
   "source": [
    "# series\n",
    "ex_series = pd.Series(\n",
    "    data = ['Mozarella Cheese',\n",
    "           'Wiener Schnitzel',\n",
    "            'Schwarzwalder Kirschtorte',\n",
    "            'Lemonade',\n",
    "            'Whiskey'],\n",
    "index = ['appetizer',\n",
    "            'main course',\n",
    "            'dessert',\n",
    "            'beverage',\n",
    "            'alcohol'])"
   ]
  },
  {
   "cell_type": "code",
   "execution_count": 8,
   "id": "77995379",
   "metadata": {},
   "outputs": [
    {
     "data": {
      "text/plain": [
       "appetizer               Mozarella Cheese\n",
       "main course             Wiener Schnitzel\n",
       "dessert        Schwarzwalder Kirschtorte\n",
       "beverage                        Lemonade\n",
       "alcohol                          Whiskey\n",
       "dtype: object"
      ]
     },
     "execution_count": 8,
     "metadata": {},
     "output_type": "execute_result"
    }
   ],
   "source": [
    "ex_series"
   ]
  },
  {
   "cell_type": "markdown",
   "id": "7cd76867",
   "metadata": {},
   "source": [
    "## `loc` and `iloc` to access elements\n",
    "1. `loc`: access via ***values***\n",
    "2. `iloc`: access via ***index***"
   ]
  },
  {
   "cell_type": "code",
   "execution_count": 9,
   "id": "f69127be",
   "metadata": {},
   "outputs": [
    {
     "data": {
      "text/plain": [
       "appetizer      Mozarella Cheese\n",
       "main course    Wiener Schnitzel\n",
       "dtype: object"
      ]
     },
     "execution_count": 9,
     "metadata": {},
     "output_type": "execute_result"
    }
   ],
   "source": [
    "# loc \n",
    "ex_series.loc[['appetizer','main course']]"
   ]
  },
  {
   "cell_type": "code",
   "execution_count": 10,
   "id": "046ae2ca",
   "metadata": {},
   "outputs": [
    {
     "data": {
      "text/plain": [
       "appetizer      Mozarella Cheese\n",
       "main course    Wiener Schnitzel\n",
       "dtype: object"
      ]
     },
     "execution_count": 10,
     "metadata": {},
     "output_type": "execute_result"
    }
   ],
   "source": [
    "# iloc\n",
    "ex_series.iloc[[0,1]]"
   ]
  },
  {
   "cell_type": "code",
   "execution_count": 11,
   "id": "a61c7d0e",
   "metadata": {},
   "outputs": [
    {
     "data": {
      "text/plain": [
       "appetizer      Mozarella Cheese\n",
       "main course    Wiener Schnitzel\n",
       "dtype: object"
      ]
     },
     "execution_count": 11,
     "metadata": {},
     "output_type": "execute_result"
    }
   ],
   "source": [
    "# We can retrieve using a range of data using iloc[]\n",
    "ex_series.iloc[0:2]"
   ]
  },
  {
   "cell_type": "code",
   "execution_count": 12,
   "id": "77ba645f",
   "metadata": {},
   "outputs": [
    {
     "data": {
      "text/plain": [
       "'Mozarella Cheese'"
      ]
     },
     "execution_count": 12,
     "metadata": {},
     "output_type": "execute_result"
    }
   ],
   "source": [
    "ex_series.loc['appetizer']"
   ]
  },
  {
   "cell_type": "markdown",
   "id": "95f33ab2",
   "metadata": {},
   "source": [
    "## DataFrames\n",
    "DataFrame is 2 dimensional tabular size-mutable and heterogeneous data. It is a collection of `pd.Series`"
   ]
  },
  {
   "cell_type": "code",
   "execution_count": 13,
   "id": "7cb0d8bf",
   "metadata": {},
   "outputs": [],
   "source": [
    "# let's create some DataFrame\n",
    "dc_city_pop = {\n",
    "    'Tokyo': 2000,\n",
    "    'Delhi': 30303,\n",
    "    'Shanghai': 5356\n",
    "}"
   ]
  },
  {
   "cell_type": "code",
   "execution_count": 14,
   "id": "de4edefc",
   "metadata": {},
   "outputs": [],
   "source": [
    "pc_city_pop = pd.Series(dc_city_pop)"
   ]
  },
  {
   "cell_type": "code",
   "execution_count": 15,
   "id": "a4951e4c",
   "metadata": {},
   "outputs": [
    {
     "data": {
      "text/plain": [
       "2000"
      ]
     },
     "execution_count": 15,
     "metadata": {},
     "output_type": "execute_result"
    }
   ],
   "source": [
    "pc_city_pop.iloc[0]"
   ]
  },
  {
   "cell_type": "code",
   "execution_count": 16,
   "id": "5b8fff33",
   "metadata": {},
   "outputs": [],
   "source": [
    "dc_city_countries = {\n",
    "    \"Tokyo\" : \"Japan\",\n",
    "    \"Delhi\" : 'India',\n",
    "    'Shanghai' : 'China'\n",
    "}"
   ]
  },
  {
   "cell_type": "code",
   "execution_count": 17,
   "id": "9afb9130",
   "metadata": {},
   "outputs": [
    {
     "data": {
      "text/plain": [
       "{'Tokyo': 'Japan', 'Delhi': 'India', 'Shanghai': 'China'}"
      ]
     },
     "execution_count": 17,
     "metadata": {},
     "output_type": "execute_result"
    }
   ],
   "source": [
    "dc_city_countries"
   ]
  },
  {
   "cell_type": "code",
   "execution_count": 18,
   "id": "8aeb3802",
   "metadata": {},
   "outputs": [],
   "source": [
    "pc_city_countries = pd.Series(dc_city_countries)"
   ]
  },
  {
   "cell_type": "code",
   "execution_count": 19,
   "id": "c2442055",
   "metadata": {},
   "outputs": [
    {
     "data": {
      "text/plain": [
       "Tokyo       Japan\n",
       "Delhi       India\n",
       "Shanghai    China\n",
       "dtype: object"
      ]
     },
     "execution_count": 19,
     "metadata": {},
     "output_type": "execute_result"
    }
   ],
   "source": [
    "pc_city_countries\n"
   ]
  },
  {
   "cell_type": "code",
   "execution_count": 20,
   "id": "a036d966",
   "metadata": {},
   "outputs": [
    {
     "data": {
      "text/plain": [
       "Tokyo        2000\n",
       "Delhi       30303\n",
       "Shanghai     5356\n",
       "dtype: int64"
      ]
     },
     "execution_count": 20,
     "metadata": {},
     "output_type": "execute_result"
    }
   ],
   "source": [
    "pc_city_pop"
   ]
  },
  {
   "cell_type": "code",
   "execution_count": 21,
   "id": "fb9efd25",
   "metadata": {},
   "outputs": [],
   "source": [
    "# concatenate the columns\n",
    "\n",
    "df_cities = pd.concat([pc_city_countries,pc_city_pop], axis = 1)"
   ]
  },
  {
   "cell_type": "code",
   "execution_count": 22,
   "id": "8368372a",
   "metadata": {},
   "outputs": [
    {
     "data": {
      "text/plain": [
       "pandas.core.frame.DataFrame"
      ]
     },
     "execution_count": 22,
     "metadata": {},
     "output_type": "execute_result"
    }
   ],
   "source": [
    "# it becomes DataFrame\n",
    "type(df_cities)"
   ]
  },
  {
   "cell_type": "code",
   "execution_count": 23,
   "id": "4c535f11",
   "metadata": {},
   "outputs": [
    {
     "data": {
      "text/html": [
       "<div>\n",
       "<style scoped>\n",
       "    .dataframe tbody tr th:only-of-type {\n",
       "        vertical-align: middle;\n",
       "    }\n",
       "\n",
       "    .dataframe tbody tr th {\n",
       "        vertical-align: top;\n",
       "    }\n",
       "\n",
       "    .dataframe thead th {\n",
       "        text-align: right;\n",
       "    }\n",
       "</style>\n",
       "<table border=\"1\" class=\"dataframe\">\n",
       "  <thead>\n",
       "    <tr style=\"text-align: right;\">\n",
       "      <th></th>\n",
       "      <th>0</th>\n",
       "      <th>1</th>\n",
       "    </tr>\n",
       "  </thead>\n",
       "  <tbody>\n",
       "    <tr>\n",
       "      <th>Tokyo</th>\n",
       "      <td>Japan</td>\n",
       "      <td>2000</td>\n",
       "    </tr>\n",
       "    <tr>\n",
       "      <th>Delhi</th>\n",
       "      <td>India</td>\n",
       "      <td>30303</td>\n",
       "    </tr>\n",
       "    <tr>\n",
       "      <th>Shanghai</th>\n",
       "      <td>China</td>\n",
       "      <td>5356</td>\n",
       "    </tr>\n",
       "  </tbody>\n",
       "</table>\n",
       "</div>"
      ],
      "text/plain": [
       "              0      1\n",
       "Tokyo     Japan   2000\n",
       "Delhi     India  30303\n",
       "Shanghai  China   5356"
      ]
     },
     "execution_count": 23,
     "metadata": {},
     "output_type": "execute_result"
    }
   ],
   "source": [
    "df_cities"
   ]
  },
  {
   "cell_type": "code",
   "execution_count": 24,
   "id": "7281aedb",
   "metadata": {},
   "outputs": [],
   "source": [
    "# lets change column names\n",
    "df_cities.columns = ['Country','Population']"
   ]
  },
  {
   "cell_type": "code",
   "execution_count": 25,
   "id": "166b6ab2",
   "metadata": {},
   "outputs": [
    {
     "data": {
      "text/html": [
       "<div>\n",
       "<style scoped>\n",
       "    .dataframe tbody tr th:only-of-type {\n",
       "        vertical-align: middle;\n",
       "    }\n",
       "\n",
       "    .dataframe tbody tr th {\n",
       "        vertical-align: top;\n",
       "    }\n",
       "\n",
       "    .dataframe thead th {\n",
       "        text-align: right;\n",
       "    }\n",
       "</style>\n",
       "<table border=\"1\" class=\"dataframe\">\n",
       "  <thead>\n",
       "    <tr style=\"text-align: right;\">\n",
       "      <th></th>\n",
       "      <th>Country</th>\n",
       "      <th>Population</th>\n",
       "    </tr>\n",
       "  </thead>\n",
       "  <tbody>\n",
       "    <tr>\n",
       "      <th>Tokyo</th>\n",
       "      <td>Japan</td>\n",
       "      <td>2000</td>\n",
       "    </tr>\n",
       "    <tr>\n",
       "      <th>Delhi</th>\n",
       "      <td>India</td>\n",
       "      <td>30303</td>\n",
       "    </tr>\n",
       "    <tr>\n",
       "      <th>Shanghai</th>\n",
       "      <td>China</td>\n",
       "      <td>5356</td>\n",
       "    </tr>\n",
       "  </tbody>\n",
       "</table>\n",
       "</div>"
      ],
      "text/plain": [
       "         Country  Population\n",
       "Tokyo      Japan        2000\n",
       "Delhi      India       30303\n",
       "Shanghai   China        5356"
      ]
     },
     "execution_count": 25,
     "metadata": {},
     "output_type": "execute_result"
    }
   ],
   "source": [
    "df_cities"
   ]
  },
  {
   "cell_type": "code",
   "execution_count": 26,
   "id": "4b713c48",
   "metadata": {},
   "outputs": [
    {
     "data": {
      "text/html": [
       "<div>\n",
       "<style scoped>\n",
       "    .dataframe tbody tr th:only-of-type {\n",
       "        vertical-align: middle;\n",
       "    }\n",
       "\n",
       "    .dataframe tbody tr th {\n",
       "        vertical-align: top;\n",
       "    }\n",
       "\n",
       "    .dataframe thead th {\n",
       "        text-align: right;\n",
       "    }\n",
       "</style>\n",
       "<table border=\"1\" class=\"dataframe\">\n",
       "  <thead>\n",
       "    <tr style=\"text-align: right;\">\n",
       "      <th></th>\n",
       "      <th>Country</th>\n",
       "      <th>Population</th>\n",
       "    </tr>\n",
       "  </thead>\n",
       "  <tbody>\n",
       "    <tr>\n",
       "      <th>Delhi</th>\n",
       "      <td>India</td>\n",
       "      <td>30303</td>\n",
       "    </tr>\n",
       "  </tbody>\n",
       "</table>\n",
       "</div>"
      ],
      "text/plain": [
       "      Country  Population\n",
       "Delhi   India       30303"
      ]
     },
     "execution_count": 26,
     "metadata": {},
     "output_type": "execute_result"
    }
   ],
   "source": [
    "# iloc\n",
    "df_cities.iloc[1:2]"
   ]
  },
  {
   "cell_type": "code",
   "execution_count": 27,
   "id": "72ffee7a",
   "metadata": {},
   "outputs": [
    {
     "data": {
      "text/html": [
       "<div>\n",
       "<style scoped>\n",
       "    .dataframe tbody tr th:only-of-type {\n",
       "        vertical-align: middle;\n",
       "    }\n",
       "\n",
       "    .dataframe tbody tr th {\n",
       "        vertical-align: top;\n",
       "    }\n",
       "\n",
       "    .dataframe thead th {\n",
       "        text-align: right;\n",
       "    }\n",
       "</style>\n",
       "<table border=\"1\" class=\"dataframe\">\n",
       "  <thead>\n",
       "    <tr style=\"text-align: right;\">\n",
       "      <th></th>\n",
       "      <th>Country</th>\n",
       "      <th>Population</th>\n",
       "    </tr>\n",
       "  </thead>\n",
       "  <tbody>\n",
       "    <tr>\n",
       "      <th>Tokyo</th>\n",
       "      <td>Japan</td>\n",
       "      <td>2000</td>\n",
       "    </tr>\n",
       "    <tr>\n",
       "      <th>Delhi</th>\n",
       "      <td>India</td>\n",
       "      <td>30303</td>\n",
       "    </tr>\n",
       "  </tbody>\n",
       "</table>\n",
       "</div>"
      ],
      "text/plain": [
       "      Country  Population\n",
       "Tokyo   Japan        2000\n",
       "Delhi   India       30303"
      ]
     },
     "execution_count": 27,
     "metadata": {},
     "output_type": "execute_result"
    }
   ],
   "source": [
    "#loc\n",
    "df_cities.loc[['Tokyo','Delhi']]"
   ]
  },
  {
   "cell_type": "code",
   "execution_count": 28,
   "id": "4d2e9200",
   "metadata": {},
   "outputs": [
    {
     "data": {
      "text/plain": [
       "30303"
      ]
     },
     "execution_count": 28,
     "metadata": {},
     "output_type": "execute_result"
    }
   ],
   "source": [
    "#iloc with 2 parameters\n",
    "df_cities.iloc[1,1]"
   ]
  },
  {
   "cell_type": "code",
   "execution_count": 29,
   "id": "dbf87b10",
   "metadata": {},
   "outputs": [
    {
     "data": {
      "text/plain": [
       "5356"
      ]
     },
     "execution_count": 29,
     "metadata": {},
     "output_type": "execute_result"
    }
   ],
   "source": [
    "# loc with 2 parameters\n",
    "df_cities.loc['Shanghai','Population']"
   ]
  },
  {
   "cell_type": "code",
   "execution_count": 30,
   "id": "cfbe984e",
   "metadata": {},
   "outputs": [
    {
     "data": {
      "text/html": [
       "<div>\n",
       "<style scoped>\n",
       "    .dataframe tbody tr th:only-of-type {\n",
       "        vertical-align: middle;\n",
       "    }\n",
       "\n",
       "    .dataframe tbody tr th {\n",
       "        vertical-align: top;\n",
       "    }\n",
       "\n",
       "    .dataframe thead th {\n",
       "        text-align: right;\n",
       "    }\n",
       "</style>\n",
       "<table border=\"1\" class=\"dataframe\">\n",
       "  <thead>\n",
       "    <tr style=\"text-align: right;\">\n",
       "      <th></th>\n",
       "      <th>Country</th>\n",
       "      <th>Population</th>\n",
       "    </tr>\n",
       "  </thead>\n",
       "  <tbody>\n",
       "    <tr>\n",
       "      <th>Delhi</th>\n",
       "      <td>India</td>\n",
       "      <td>30303</td>\n",
       "    </tr>\n",
       "    <tr>\n",
       "      <th>Shanghai</th>\n",
       "      <td>China</td>\n",
       "      <td>5356</td>\n",
       "    </tr>\n",
       "  </tbody>\n",
       "</table>\n",
       "</div>"
      ],
      "text/plain": [
       "         Country  Population\n",
       "Delhi      India       30303\n",
       "Shanghai   China        5356"
      ]
     },
     "execution_count": 30,
     "metadata": {},
     "output_type": "execute_result"
    }
   ],
   "source": [
    "#indexing based on logical conditions\n",
    "df_cities[df_cities['Population']>2000]"
   ]
  },
  {
   "cell_type": "code",
   "execution_count": 31,
   "id": "06c2c3da",
   "metadata": {},
   "outputs": [
    {
     "data": {
      "text/html": [
       "<div>\n",
       "<style scoped>\n",
       "    .dataframe tbody tr th:only-of-type {\n",
       "        vertical-align: middle;\n",
       "    }\n",
       "\n",
       "    .dataframe tbody tr th {\n",
       "        vertical-align: top;\n",
       "    }\n",
       "\n",
       "    .dataframe thead th {\n",
       "        text-align: right;\n",
       "    }\n",
       "</style>\n",
       "<table border=\"1\" class=\"dataframe\">\n",
       "  <thead>\n",
       "    <tr style=\"text-align: right;\">\n",
       "      <th></th>\n",
       "      <th>Country</th>\n",
       "      <th>Population</th>\n",
       "    </tr>\n",
       "  </thead>\n",
       "  <tbody>\n",
       "    <tr>\n",
       "      <th>Delhi</th>\n",
       "      <td>India</td>\n",
       "      <td>30303</td>\n",
       "    </tr>\n",
       "  </tbody>\n",
       "</table>\n",
       "</div>"
      ],
      "text/plain": [
       "      Country  Population\n",
       "Delhi   India       30303"
      ]
     },
     "execution_count": 31,
     "metadata": {},
     "output_type": "execute_result"
    }
   ],
   "source": [
    "#indexing based on logical conditions\n",
    "df_cities[df_cities['Country']=='India']"
   ]
  },
  {
   "cell_type": "code",
   "execution_count": 32,
   "id": "9ca67872",
   "metadata": {},
   "outputs": [
    {
     "data": {
      "text/html": [
       "<div>\n",
       "<style scoped>\n",
       "    .dataframe tbody tr th:only-of-type {\n",
       "        vertical-align: middle;\n",
       "    }\n",
       "\n",
       "    .dataframe tbody tr th {\n",
       "        vertical-align: top;\n",
       "    }\n",
       "\n",
       "    .dataframe thead th {\n",
       "        text-align: right;\n",
       "    }\n",
       "</style>\n",
       "<table border=\"1\" class=\"dataframe\">\n",
       "  <thead>\n",
       "    <tr style=\"text-align: right;\">\n",
       "      <th></th>\n",
       "      <th>Country</th>\n",
       "      <th>Population</th>\n",
       "    </tr>\n",
       "  </thead>\n",
       "  <tbody>\n",
       "    <tr>\n",
       "      <th>Delhi</th>\n",
       "      <td>India</td>\n",
       "      <td>30303</td>\n",
       "    </tr>\n",
       "    <tr>\n",
       "      <th>Shanghai</th>\n",
       "      <td>China</td>\n",
       "      <td>5356</td>\n",
       "    </tr>\n",
       "  </tbody>\n",
       "</table>\n",
       "</div>"
      ],
      "text/plain": [
       "         Country  Population\n",
       "Delhi      India       30303\n",
       "Shanghai   China        5356"
      ]
     },
     "execution_count": 32,
     "metadata": {},
     "output_type": "execute_result"
    }
   ],
   "source": [
    "# show the data for countries that are in the list\n",
    "df_cities[df_cities['Country'].isin(['China','India'])]"
   ]
  },
  {
   "cell_type": "markdown",
   "id": "d9074730",
   "metadata": {},
   "source": [
    "#### We can use `~` sign for negating the results"
   ]
  },
  {
   "cell_type": "code",
   "execution_count": 33,
   "id": "3b63b63b",
   "metadata": {},
   "outputs": [
    {
     "data": {
      "text/html": [
       "<div>\n",
       "<style scoped>\n",
       "    .dataframe tbody tr th:only-of-type {\n",
       "        vertical-align: middle;\n",
       "    }\n",
       "\n",
       "    .dataframe tbody tr th {\n",
       "        vertical-align: top;\n",
       "    }\n",
       "\n",
       "    .dataframe thead th {\n",
       "        text-align: right;\n",
       "    }\n",
       "</style>\n",
       "<table border=\"1\" class=\"dataframe\">\n",
       "  <thead>\n",
       "    <tr style=\"text-align: right;\">\n",
       "      <th></th>\n",
       "      <th>Country</th>\n",
       "      <th>Population</th>\n",
       "    </tr>\n",
       "  </thead>\n",
       "  <tbody>\n",
       "    <tr>\n",
       "      <th>Tokyo</th>\n",
       "      <td>Japan</td>\n",
       "      <td>2000</td>\n",
       "    </tr>\n",
       "  </tbody>\n",
       "</table>\n",
       "</div>"
      ],
      "text/plain": [
       "      Country  Population\n",
       "Tokyo   Japan        2000"
      ]
     },
     "execution_count": 33,
     "metadata": {},
     "output_type": "execute_result"
    }
   ],
   "source": [
    "# show the data for countries that are **not** in the list\n",
    "df_cities[~df_cities['Country'].isin(['China','India'])]"
   ]
  },
  {
   "cell_type": "code",
   "execution_count": 34,
   "id": "03aa8196",
   "metadata": {},
   "outputs": [],
   "source": [
    "# Create a column from index and generate a new index, drop should be False, if we want to keep the old_index column\n",
    "df_cities.reset_index(drop =False,inplace = True)"
   ]
  },
  {
   "cell_type": "code",
   "execution_count": 59,
   "id": "9fc1d2fc",
   "metadata": {},
   "outputs": [],
   "source": [
    "df_cities.rename({'City1':'City'},axis = 1,inplace = True)"
   ]
  },
  {
   "cell_type": "code",
   "execution_count": 60,
   "id": "d05b8766",
   "metadata": {},
   "outputs": [
    {
     "data": {
      "text/html": [
       "<div>\n",
       "<style scoped>\n",
       "    .dataframe tbody tr th:only-of-type {\n",
       "        vertical-align: middle;\n",
       "    }\n",
       "\n",
       "    .dataframe tbody tr th {\n",
       "        vertical-align: top;\n",
       "    }\n",
       "\n",
       "    .dataframe thead th {\n",
       "        text-align: right;\n",
       "    }\n",
       "</style>\n",
       "<table border=\"1\" class=\"dataframe\">\n",
       "  <thead>\n",
       "    <tr style=\"text-align: right;\">\n",
       "      <th></th>\n",
       "      <th>City</th>\n",
       "      <th>Country</th>\n",
       "      <th>Population</th>\n",
       "    </tr>\n",
       "  </thead>\n",
       "  <tbody>\n",
       "    <tr>\n",
       "      <th>0</th>\n",
       "      <td>Tokyo</td>\n",
       "      <td>Japan</td>\n",
       "      <td>2000</td>\n",
       "    </tr>\n",
       "    <tr>\n",
       "      <th>1</th>\n",
       "      <td>Delhi</td>\n",
       "      <td>India</td>\n",
       "      <td>30303</td>\n",
       "    </tr>\n",
       "    <tr>\n",
       "      <th>2</th>\n",
       "      <td>Shanghai</td>\n",
       "      <td>China</td>\n",
       "      <td>5356</td>\n",
       "    </tr>\n",
       "  </tbody>\n",
       "</table>\n",
       "</div>"
      ],
      "text/plain": [
       "       City Country  Population\n",
       "0     Tokyo   Japan        2000\n",
       "1     Delhi   India       30303\n",
       "2  Shanghai   China        5356"
      ]
     },
     "execution_count": 60,
     "metadata": {},
     "output_type": "execute_result"
    }
   ],
   "source": [
    "df_cities"
   ]
  },
  {
   "cell_type": "code",
   "execution_count": 61,
   "id": "76bd3e84",
   "metadata": {},
   "outputs": [
    {
     "data": {
      "text/plain": [
       "(3, 3)"
      ]
     },
     "execution_count": 61,
     "metadata": {},
     "output_type": "execute_result"
    }
   ],
   "source": [
    "#metadata\n",
    "df_cities.shape"
   ]
  },
  {
   "cell_type": "code",
   "execution_count": 63,
   "id": "7d0410e1",
   "metadata": {},
   "outputs": [
    {
     "name": "stdout",
     "output_type": "stream",
     "text": [
      "The number of rows is: 3 \n",
      "The number of columns is: 3\n"
     ]
    }
   ],
   "source": [
    "print(f'The number of rows is: {df_cities.shape[0]} \\nThe number of columns is: {df_cities.shape[1]}')"
   ]
  },
  {
   "cell_type": "code",
   "execution_count": 66,
   "id": "a77052f8",
   "metadata": {},
   "outputs": [
    {
     "name": "stdout",
     "output_type": "stream",
     "text": [
      "<class 'pandas.core.frame.DataFrame'>\n",
      "Int64Index: 3 entries, 0 to 2\n",
      "Data columns (total 3 columns):\n",
      " #   Column      Non-Null Count  Dtype \n",
      "---  ------      --------------  ----- \n",
      " 0   City        3 non-null      object\n",
      " 1   Country     3 non-null      object\n",
      " 2   Population  3 non-null      int64 \n",
      "dtypes: int64(1), object(2)\n",
      "memory usage: 96.0+ bytes\n"
     ]
    }
   ],
   "source": [
    "df_cities.info()\n"
   ]
  },
  {
   "cell_type": "code",
   "execution_count": 70,
   "id": "638359c8",
   "metadata": {},
   "outputs": [
    {
     "data": {
      "text/plain": [
       "City          0\n",
       "Country       0\n",
       "Population    0\n",
       "dtype: int64"
      ]
     },
     "execution_count": 70,
     "metadata": {},
     "output_type": "execute_result"
    }
   ],
   "source": [
    "# check null values\n",
    "df_cities.isna().sum()"
   ]
  }
 ],
 "metadata": {
  "kernelspec": {
   "display_name": "Python 3 (ipykernel)",
   "language": "python",
   "name": "python3"
  },
  "language_info": {
   "codemirror_mode": {
    "name": "ipython",
    "version": 3
   },
   "file_extension": ".py",
   "mimetype": "text/x-python",
   "name": "python",
   "nbconvert_exporter": "python",
   "pygments_lexer": "ipython3",
   "version": "3.11.4"
  }
 },
 "nbformat": 4,
 "nbformat_minor": 5
}
